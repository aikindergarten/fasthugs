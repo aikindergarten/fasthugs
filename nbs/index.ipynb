{
 "cells": [
  {
   "cell_type": "code",
   "execution_count": null,
   "metadata": {},
   "outputs": [],
   "source": [
    "#hide\n",
    "# imports here"
   ]
  },
  {
   "cell_type": "markdown",
   "metadata": {},
   "source": [
    "# FastHugs\n",
    "\n",
    "> Training HuggingFace models using fastai"
   ]
  },
  {
   "cell_type": "markdown",
   "metadata": {},
   "source": [
    "## Install"
   ]
  },
  {
   "cell_type": "markdown",
   "metadata": {},
   "source": [
    "```\n",
    "pip install git+git://github.com/aikindergarten/fasthugs.git\n",
    "```"
   ]
  },
  {
   "cell_type": "markdown",
   "metadata": {},
   "source": [
    "## How to use"
   ]
  },
  {
   "cell_type": "markdown",
   "metadata": {},
   "source": [
    "### Pre-training\n",
    "\n",
    "[Masked Language modeling](https://aikindergarten.github.io/fasthugs/examples.mlm-imdb.html)"
   ]
  },
  {
   "cell_type": "markdown",
   "metadata": {},
   "source": [
    "### Fine-tuning\n",
    "\n",
    "1. [Sentiment classification: IMDB](https://aikindergarten.github.io/fasthugs/examples.classification-imdb.html)\n",
    "2. [GLUE benchmark](https://aikindergarten.github.io/fasthugs/examples.glue-benchmark.html)\n",
    "3. [Machine Translation](https://aikindergarten.github.io/fasthugs/examples.machine-translation.html)\n",
    "4. [Summarization](https://aikindergarten.github.io/fasthugs/examples.summarization.html)\n",
    "5. [Multiple Choice](https://aikindergarten.github.io/fasthugs/examples.multiple_choice.html)\n",
    "6. [Token Classification](https://aikindergarten.github.io/fasthugs/examples.token_classification.html)"
   ]
  },
  {
   "cell_type": "markdown",
   "metadata": {},
   "source": [
    "### Hyper-parameter search\n",
    "\n",
    "[W&B sweeps](https://aikindergarten.github.io/fasthugs/examples.glue-benchmark-sweeps.html)"
   ]
  },
  {
   "cell_type": "markdown",
   "metadata": {},
   "source": [
    "And more coming soon..."
   ]
  },
  {
   "cell_type": "markdown",
   "metadata": {},
   "source": [
    "## Acknoledgements"
   ]
  },
  {
   "cell_type": "markdown",
   "metadata": {},
   "source": [
    "This library is lightweight wrapper for this two awesome libraries: HuggingFace [transformers](https://github.com/huggingface/transformers/) and [fastai](https://github.com/fastai/fastai/) and is inspired by other work in same direction namely earlier [fasthugs](https://github.com/morganmcg1/fasthugs) by @morganmcg1 and [blurr](https://github.com/ohmeow/blurr) by @ohmeow."
   ]
  },
  {
   "cell_type": "code",
   "execution_count": null,
   "metadata": {},
   "outputs": [],
   "source": []
  }
 ],
 "metadata": {
  "kernelspec": {
   "display_name": "Python 3",
   "language": "python",
   "name": "python3"
  }
 },
 "nbformat": 4,
 "nbformat_minor": 4
}
