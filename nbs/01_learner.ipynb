{
 "cells": [
  {
   "cell_type": "code",
   "execution_count": null,
   "id": "a314ce40",
   "metadata": {},
   "outputs": [],
   "source": [
    "# default_exp learner"
   ]
  },
  {
   "cell_type": "code",
   "execution_count": null,
   "id": "0505153a",
   "metadata": {},
   "outputs": [],
   "source": [
    "#default_cls_lvl 3"
   ]
  },
  {
   "cell_type": "code",
   "execution_count": null,
   "id": "58d3d666",
   "metadata": {},
   "outputs": [],
   "source": [
    "#hide\n",
    "%load_ext autoreload\n",
    "%autoreload 2"
   ]
  },
  {
   "cell_type": "code",
   "execution_count": null,
   "id": "314dd02c",
   "metadata": {},
   "outputs": [],
   "source": [
    "#hide\n",
    "from nbdev.showdoc import *"
   ]
  },
  {
   "cell_type": "code",
   "execution_count": null,
   "id": "c3d654a8",
   "metadata": {},
   "outputs": [],
   "source": [
    "#export\n",
    "from fastai.basics import *\n",
    "from fastai.text.all import TensorText\n",
    "from inspect import signature\n",
    "from fasthugs.data import TransformersTextBlock\n",
    "\n",
    "from transformers import AutoTokenizer, AutoConfig, AutoModelForSequenceClassification, BatchEncoding\n",
    "from transformers.modeling_outputs import QuestionAnsweringModelOutput"
   ]
  },
  {
   "cell_type": "markdown",
   "id": "22af49c8",
   "metadata": {},
   "source": [
    "# Learner for transformers"
   ]
  },
  {
   "cell_type": "markdown",
   "id": "b3b026cb",
   "metadata": {},
   "source": [
    "## Parameter groups"
   ]
  },
  {
   "cell_type": "markdown",
   "id": "f902e636",
   "metadata": {},
   "source": [
    "TODOs:\n",
    "- [x] exclude modules w/o params\n",
    "- [ ] add layerwise splitter for Transfomers"
   ]
  },
  {
   "cell_type": "code",
   "execution_count": null,
   "id": "86e51e58",
   "metadata": {},
   "outputs": [],
   "source": [
    "#skip\n",
    "#hide\n",
    "# for n, m in model.base_model.named_children(): print(n)"
   ]
  },
  {
   "cell_type": "code",
   "execution_count": null,
   "id": "5bd7ef6c",
   "metadata": {},
   "outputs": [],
   "source": [
    "# export\n",
    "def default_splitter(model):\n",
    "    groups = L(model.base_model.children()) + L(m for m in list(model.children())[1:] if params(m))\n",
    "    return groups.map(params)"
   ]
  },
  {
   "cell_type": "code",
   "execution_count": null,
   "id": "faf8ad70",
   "metadata": {},
   "outputs": [],
   "source": [
    "def layerwise_splitter(model):\n",
    "    raise NotImplementedError('use default_splitter for now')"
   ]
  },
  {
   "cell_type": "markdown",
   "id": "2ed06606",
   "metadata": {},
   "source": [
    "## TransLearner and utils"
   ]
  },
  {
   "cell_type": "code",
   "execution_count": null,
   "id": "68230bbd",
   "metadata": {},
   "outputs": [],
   "source": [
    "#export\n",
    "@typedispatch\n",
    "def show_results(x: TensorText, y, samples, outs, ctxs=None, max_n=10, trunc_at=150, **kwargs):\n",
    "    if ctxs is None: ctxs = get_empty_df(min(len(samples), max_n))\n",
    "    if isinstance(samples[0][0], tuple):\n",
    "        samples = L((*s[0], *s[1:]) for s in samples)\n",
    "        if trunc_at is not None: samples = L((s[0].truncate(trunc_at), s[1].truncate(trunc_at), *s[2:]) for s in samples)\n",
    "    elif trunc_at is not None: samples = L((s[0].truncate(trunc_at),*s[1:]) for s in samples)\n",
    "    ctxs = show_results[object](x, y, samples, outs, ctxs=ctxs, max_n=max_n, **kwargs)\n",
    "    display_df(pd.DataFrame(ctxs))\n",
    "    return ctxs"
   ]
  },
  {
   "cell_type": "code",
   "execution_count": null,
   "id": "31a7ece9",
   "metadata": {},
   "outputs": [],
   "source": [
    "#export\n",
    "def to_device(b, device=None):\n",
    "    \"Recursively put `b` on `device`. Handles `BatchEncoding`s\"\n",
    "    if defaults.use_cuda==False: device='cpu'\n",
    "    elif device is None: device=default_device()\n",
    "    def _inner(o):      \n",
    "        if isinstance(o,Tensor): return o.to(device, non_blocking=True)\n",
    "        elif isinstance(o, (dict, BatchEncoding)):\n",
    "            return {k:to_device(v) for k,v in o.items()}\n",
    "        elif hasattr(o, \"to_device\"): return o.to_device(device)\n",
    "        else: return o\n",
    "    return apply(_inner, b)"
   ]
  },
  {
   "cell_type": "code",
   "execution_count": null,
   "id": "76f189de",
   "metadata": {},
   "outputs": [],
   "source": [
    "#cuda\n",
    "device = torch.device('cuda:0')\n",
    "d = {'a':tensor([1,2,3])}\n",
    "d_cuda = to_device(d)\n",
    "assert d_cuda['a'].device == device"
   ]
  },
  {
   "cell_type": "code",
   "execution_count": null,
   "id": "b0b1ea45",
   "metadata": {},
   "outputs": [],
   "source": [
    "#export\n",
    "class TransCallback(Callback):\n",
    "    \"Handles usecase with loss returned by HuggingFace model\"\n",
    "    def after_pred(self):\n",
    "        if 'loss' in self.pred:\n",
    "            self.learn.loss_grad = self.pred.loss\n",
    "            self.learn.loss = self.pred.loss.clone()\n",
    "            if 'labels' in self.xb[0].keys():\n",
    "                self.learn.yb = (self.xb[0]['labels'], )\n",
    "            self.learn.compute_loss = False\n",
    "        if isinstance(self.pred, QuestionAnsweringModelOutput):\n",
    "            self.learn.pred = (self.pred.start_logits, self.pred.end_logits)\n",
    "        else: self.learn.pred = self.pred.logits"
   ]
  },
  {
   "cell_type": "code",
   "execution_count": null,
   "id": "8d1f039c",
   "metadata": {},
   "outputs": [],
   "source": [
    "#skip\n",
    "#hide\n",
    "def __init__(self, dls, model, loss_func=None, opt_func=Adam, lr=defaults.lr, splitter=trainable_params, cbs=None,\n",
    "                 metrics=None, path=None, model_dir='models', wd=None, wd_bn_bias=False, train_bn=True,\n",
    "                 moms=(0.95,0.85,0.95)):\n",
    "        path = Path(path) if path is not None else getattr(dls, 'path', Path('.'))\n",
    "        if loss_func is None:\n",
    "            loss_func = getattr(dls.train_ds, 'loss_func', None)\n",
    "            assert loss_func is not None, \"Could not infer loss function from the data, please pass a loss function.\"\n",
    "        self.dls,self.model = dls,model\n",
    "        store_attr(but='dls,model,cbs')\n",
    "        self.training,self.create_mbar,self.logger,self.opt,self.cbs = False,True,print,None,L()\n",
    "        self.add_cbs(L(defaults.callbacks)+L(cbs))\n",
    "        self(\"after_create\")"
   ]
  },
  {
   "cell_type": "code",
   "execution_count": null,
   "id": "4e7ea0fc",
   "metadata": {},
   "outputs": [],
   "source": [
    "#export\n",
    "@delegates(Learner.__init__)\n",
    "class TransLearner(Learner):\n",
    "    \"Learner for training transformers from HuggingFace\"\n",
    "    def __init__(self, dls, model, **kwargs):\n",
    "        splitter = kwargs.pop('splitter', None)\n",
    "        if splitter is None: kwargs['splitter'] = default_splitter\n",
    "        super().__init__(dls, model, **kwargs)\n",
    "        self.model_args = set(signature(model.forward).parameters.keys())\n",
    "        self.add_cb(TransCallback())\n",
    "        self.compute_loss = True\n",
    "\n",
    "    def one_batch(self, i, b):\n",
    "        self.iter = i\n",
    "        b_on_device = tuple(to_device(e) for e in b) if self.dls.device is not None else b\n",
    "        self._split(b_on_device)\n",
    "        self._with_events(self._do_one_batch, 'batch', CancelBatchException)\n",
    "    \n",
    "    def _do_one_batch(self):\n",
    "        x = self.xb[0]\n",
    "        for k in x.keys():\n",
    "            if k not in self.model_args: del x[k]\n",
    "        self.pred = self.model(**self.x)\n",
    "        self('after_pred')\n",
    "        if len(self.yb) and self.compute_loss:\n",
    "            self.loss_grad = self.loss_func(self.pred, *self.yb)\n",
    "            self.loss = self.loss_grad.clone()\n",
    "        self('after_loss')\n",
    "        if not self.training or not len(self.yb): return\n",
    "        self('before_backward')\n",
    "        self.loss_grad.backward()\n",
    "        self._with_events(self.opt.step, 'step', CancelStepException)\n",
    "        self.opt.zero_grad()"
   ]
  },
  {
   "cell_type": "markdown",
   "id": "f88dbc99",
   "metadata": {},
   "source": [
    "### Using TransLearner for sequence classification"
   ]
  },
  {
   "cell_type": "code",
   "execution_count": null,
   "id": "dfda340f",
   "metadata": {},
   "outputs": [],
   "source": [
    "#slow\n",
    "path = untar_data(URLs.IMDB_SAMPLE)\n",
    "texts = pd.read_csv(path/'texts.csv')\n",
    "\n",
    "model_name = 'distilbert-base-uncased'\n",
    "max_len = 128\n",
    "bs = 8\n",
    "val_bs = 16\n",
    "tokenizer = AutoTokenizer.from_pretrained(model_name)\n",
    "dblock = DataBlock(blocks = [TransformersTextBlock(tokenizer=tokenizer), CategoryBlock()],\n",
    "                   get_x=ItemGetter('text'),\n",
    "                   get_y=ItemGetter('label'),\n",
    "                   splitter=ColSplitter())\n",
    "dls = dblock.dataloaders(texts, bs=bs, val_bs=val_bs)"
   ]
  },
  {
   "cell_type": "code",
   "execution_count": null,
   "id": "6b7b0fd3",
   "metadata": {},
   "outputs": [
    {
     "name": "stderr",
     "output_type": "stream",
     "text": [
      "Some weights of the model checkpoint at distilbert-base-uncased were not used when initializing DistilBertForSequenceClassification: ['vocab_transform.weight', 'vocab_transform.bias', 'vocab_layer_norm.weight', 'vocab_layer_norm.bias', 'vocab_projector.weight', 'vocab_projector.bias']\n",
      "- This IS expected if you are initializing DistilBertForSequenceClassification from the checkpoint of a model trained on another task or with another architecture (e.g. initializing a BertForSequenceClassification model from a BertForPreTraining model).\n",
      "- This IS NOT expected if you are initializing DistilBertForSequenceClassification from the checkpoint of a model that you expect to be exactly identical (initializing a BertForSequenceClassification model from a BertForSequenceClassification model).\n",
      "Some weights of DistilBertForSequenceClassification were not initialized from the model checkpoint at distilbert-base-uncased and are newly initialized: ['pre_classifier.weight', 'pre_classifier.bias', 'classifier.weight', 'classifier.bias']\n",
      "You should probably TRAIN this model on a down-stream task to be able to use it for predictions and inference.\n"
     ]
    },
    {
     "data": {
      "text/html": [
       "<table border=\"1\" class=\"dataframe\">\n",
       "  <thead>\n",
       "    <tr style=\"text-align: left;\">\n",
       "      <th>epoch</th>\n",
       "      <th>train_loss</th>\n",
       "      <th>valid_loss</th>\n",
       "      <th>accuracy</th>\n",
       "      <th>time</th>\n",
       "    </tr>\n",
       "  </thead>\n",
       "  <tbody>\n",
       "    <tr>\n",
       "      <td>0</td>\n",
       "      <td>0.446150</td>\n",
       "      <td>0.542738</td>\n",
       "      <td>0.765000</td>\n",
       "      <td>00:21</td>\n",
       "    </tr>\n",
       "    <tr>\n",
       "      <td>1</td>\n",
       "      <td>0.288374</td>\n",
       "      <td>0.300514</td>\n",
       "      <td>0.895000</td>\n",
       "      <td>00:21</td>\n",
       "    </tr>\n",
       "  </tbody>\n",
       "</table>"
      ],
      "text/plain": [
       "<IPython.core.display.HTML object>"
      ]
     },
     "metadata": {},
     "output_type": "display_data"
    }
   ],
   "source": [
    "#slow\n",
    "model = AutoModelForSequenceClassification.from_pretrained(model_name)\n",
    "learn = TransLearner(dls, model, metrics=accuracy)\n",
    "learn.fit(2, 2e-5)"
   ]
  },
  {
   "cell_type": "markdown",
   "id": "7756bef9",
   "metadata": {},
   "source": [
    "## Fin"
   ]
  },
  {
   "cell_type": "code",
   "execution_count": null,
   "id": "b234ab48",
   "metadata": {},
   "outputs": [
    {
     "name": "stdout",
     "output_type": "stream",
     "text": [
      "Converted 00_data.ipynb.\n",
      "Converted 01_learner.ipynb.\n",
      "Converted 10_examples.classification-imdb.ipynb.\n",
      "Converted 11_examples.mlm-imdb.ipynb.\n",
      "Converted 12_examples.glue-benchmark.ipynb.\n",
      "Converted index.ipynb.\n"
     ]
    }
   ],
   "source": [
    "#hide\n",
    "from nbdev.export import notebook2script; notebook2script()"
   ]
  },
  {
   "cell_type": "code",
   "execution_count": null,
   "id": "d78a46a9",
   "metadata": {},
   "outputs": [],
   "source": []
  }
 ],
 "metadata": {
  "kernelspec": {
   "display_name": "Python 3",
   "language": "python",
   "name": "python3"
  }
 },
 "nbformat": 4,
 "nbformat_minor": 5
}
