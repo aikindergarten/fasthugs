{
 "cells": [
  {
   "cell_type": "code",
   "execution_count": 4,
   "id": "11b03d10",
   "metadata": {},
   "outputs": [],
   "source": [
    "# default_exp data"
   ]
  },
  {
   "cell_type": "code",
   "execution_count": 5,
   "id": "66a21217",
   "metadata": {},
   "outputs": [],
   "source": [
    "#hide\n",
    "%load_ext autoreload\n",
    "%autoreload 2"
   ]
  },
  {
   "cell_type": "code",
   "execution_count": 6,
   "id": "f5e07042",
   "metadata": {},
   "outputs": [],
   "source": [
    "#hide\n",
    "from nbdev.showdoc import *"
   ]
  },
  {
   "cell_type": "code",
   "execution_count": 7,
   "id": "c54a851f",
   "metadata": {},
   "outputs": [],
   "source": [
    "#export\n",
    "from fastai.basics import *\n",
    "from inspect import signature"
   ]
  },
  {
   "cell_type": "markdown",
   "id": "06bc8da7",
   "metadata": {},
   "source": [
    "# Learner for transformers"
   ]
  },
  {
   "cell_type": "markdown",
   "id": "0db55535",
   "metadata": {},
   "source": [
    "## Parameter groups"
   ]
  },
  {
   "cell_type": "code",
   "execution_count": 10,
   "id": "63de5476",
   "metadata": {},
   "outputs": [],
   "source": [
    "# export\n",
    "def default_splitter(model):\n",
    "    groups = L([model.base_model.embeddings, model.base_model.encoder]) + L(model.children())[1:]\n",
    "    return groups.map(params)"
   ]
  },
  {
   "cell_type": "markdown",
   "id": "c2f40ef0",
   "metadata": {},
   "source": [
    "## TransLearner and utils"
   ]
  },
  {
   "cell_type": "code",
   "execution_count": 12,
   "id": "2f6684a2",
   "metadata": {},
   "outputs": [],
   "source": [
    "#export\n",
    "def to_device(b, device=None):\n",
    "    \"Recursively put `b` on `device`. Handles `dict`s\"\n",
    "    if defaults.use_cuda==False: device='cpu'\n",
    "    elif device is None: device=default_device()\n",
    "    def _inner(o):\n",
    "        if isinstance(o,Tensor): return o.to(device, non_blocking=True)\n",
    "        elif hasattr(o, \"to_device\"): return o.to_device(device)\n",
    "        elif isinstance(o, dict): return {k:to_device(v) for k,v in o.items()}\n",
    "        else: return o\n",
    "    return apply(_inner, b)"
   ]
  },
  {
   "cell_type": "code",
   "execution_count": 13,
   "id": "87a4d742",
   "metadata": {},
   "outputs": [],
   "source": [
    "#export\n",
    "class TransCallback(Callback):\n",
    "    \"Handles usecase with loss returned by HuggingFace model\"\n",
    "    def after_pred(self):\n",
    "        if 'loss' in self.pred:\n",
    "            self.learn.loss_grad = self.pred.loss\n",
    "            self.learn.loss = self.pred.loss.clone()\n",
    "            self.learn.yb = (self.xb[0]['labels'], )\n",
    "            self.learn.compute_loss = False\n",
    "        self.learn.pred = self.pred.logits"
   ]
  },
  {
   "cell_type": "code",
   "execution_count": 14,
   "id": "28e70b3a",
   "metadata": {},
   "outputs": [],
   "source": [
    "#export\n",
    "@delegates(Learner.__init__)\n",
    "class TransLearner(Learner):\n",
    "    \"Learner for training transformers from HuggingFace\"\n",
    "    def __init__(self, dls, model, **kwargs):\n",
    "        super().__init__(dls, model, **kwargs)\n",
    "        self.model_args = set(signature(model.forward).parameters.keys())\n",
    "        self.add_cb(TransCallback())\n",
    "        self.compute_loss = True\n",
    "\n",
    "    def one_batch(self, i, b):\n",
    "        self.iter = i\n",
    "        b_on_device = tuple(to_device(e) for e in b) if self.dls.device is not None else b\n",
    "        self._split(b_on_device)\n",
    "        self._with_events(self._do_one_batch, 'batch', CancelBatchException)\n",
    "    \n",
    "    def _do_one_batch(self):\n",
    "        x = self.xb[0]\n",
    "        for k in x.keys():\n",
    "            if k not in self.model_args: del x[k]\n",
    "        self.pred = self.model(**self.x)\n",
    "        self('after_pred')\n",
    "        if len(self.yb) and self.compute_loss:\n",
    "            self.loss_grad = self.loss_func(self.pred, *self.yb)\n",
    "            self.loss = self.loss_grad.clone()\n",
    "        self('after_loss')\n",
    "        if not self.training or not len(self.yb): return\n",
    "        self('before_backward')\n",
    "        self.loss_grad.backward()\n",
    "        self._with_events(self.opt.step, 'step', CancelStepException)\n",
    "        self.opt.zero_grad()"
   ]
  },
  {
   "cell_type": "code",
   "execution_count": 15,
   "id": "eb779074",
   "metadata": {},
   "outputs": [
    {
     "name": "stdout",
     "output_type": "stream",
     "text": [
      "Converted 00_data.ipynb.\n",
      "Converted 01_learner.ipynb.\n",
      "Converted index.ipynb.\n"
     ]
    }
   ],
   "source": [
    "#hide\n",
    "from nbdev.export import notebook2script; notebook2script()"
   ]
  },
  {
   "cell_type": "code",
   "execution_count": null,
   "id": "78f72d77",
   "metadata": {},
   "outputs": [],
   "source": []
  }
 ],
 "metadata": {
  "kernelspec": {
   "display_name": "Python 3",
   "language": "python",
   "name": "python3"
  },
  "language_info": {
   "codemirror_mode": {
    "name": "ipython",
    "version": 3
   },
   "file_extension": ".py",
   "mimetype": "text/x-python",
   "name": "python",
   "nbconvert_exporter": "python",
   "pygments_lexer": "ipython3",
   "version": "3.8.8"
  }
 },
 "nbformat": 4,
 "nbformat_minor": 5
}
