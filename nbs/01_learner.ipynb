{
 "cells": [
  {
   "cell_type": "code",
   "execution_count": null,
   "id": "44f51fba",
   "metadata": {},
   "outputs": [],
   "source": [
    "# default_exp learner"
   ]
  },
  {
   "cell_type": "code",
   "execution_count": null,
   "id": "e3a82a72",
   "metadata": {},
   "outputs": [],
   "source": [
    "#default_cls_lvl 3"
   ]
  },
  {
   "cell_type": "code",
   "execution_count": null,
   "id": "f68db055",
   "metadata": {},
   "outputs": [],
   "source": [
    "#hide\n",
    "%load_ext autoreload\n",
    "%autoreload 2"
   ]
  },
  {
   "cell_type": "code",
   "execution_count": null,
   "id": "c97e9bde",
   "metadata": {},
   "outputs": [],
   "source": [
    "#hide\n",
    "from nbdev.showdoc import *"
   ]
  },
  {
   "cell_type": "code",
   "execution_count": null,
   "id": "0eadcd83",
   "metadata": {},
   "outputs": [],
   "source": [
    "#export\n",
    "from fastai.basics import *\n",
    "from fastai.text.all import TensorText\n",
    "from inspect import signature\n",
    "from fasthugs.data import TransformersTextBlock\n",
    "\n",
    "from transformers import AutoTokenizer, AutoConfig, AutoModelForSequenceClassification, BatchEncoding\n",
    "from transformers.modeling_outputs import QuestionAnsweringModelOutput"
   ]
  },
  {
   "cell_type": "markdown",
   "id": "e1e13386",
   "metadata": {},
   "source": [
    "# Learner for transformers"
   ]
  },
  {
   "cell_type": "markdown",
   "id": "4cc2379b",
   "metadata": {},
   "source": [
    "## Parameter groups"
   ]
  },
  {
   "cell_type": "markdown",
   "id": "e11cad57",
   "metadata": {},
   "source": [
    "TODOs:\n",
    "- [x] exclude modules w/o params\n",
    "- [ ] add layerwise splitter for Transfomers"
   ]
  },
  {
   "cell_type": "code",
   "execution_count": null,
   "id": "97d932ab",
   "metadata": {},
   "outputs": [],
   "source": [
    "#skip\n",
    "#hide\n",
    "# for n, m in model.base_model.named_children(): print(n)"
   ]
  },
  {
   "cell_type": "code",
   "execution_count": null,
   "id": "d0809758",
   "metadata": {},
   "outputs": [],
   "source": [
    "# export\n",
    "def default_splitter(model):\n",
    "    groups = L(model.base_model.children()) + L(m for m in list(model.children())[1:] if params(m))\n",
    "    return groups.map(params)"
   ]
  },
  {
   "cell_type": "code",
   "execution_count": null,
   "id": "71ac5721",
   "metadata": {},
   "outputs": [],
   "source": [
    "def layerwise_splitter(model):\n",
    "    raise NotImplementedError('use default_splitter for now')"
   ]
  },
  {
   "cell_type": "markdown",
   "id": "49115996",
   "metadata": {},
   "source": [
    "## TransLearner and utils"
   ]
  },
  {
   "cell_type": "code",
   "execution_count": null,
   "id": "ade0a884",
   "metadata": {},
   "outputs": [],
   "source": [
    "#export\n",
    "@typedispatch\n",
    "def show_results(x: TensorText, y, samples, outs, ctxs=None, max_n=10, trunc_at=150, **kwargs):\n",
    "    if ctxs is None: ctxs = get_empty_df(min(len(samples), max_n))\n",
    "    if isinstance(samples[0][0], tuple):\n",
    "        samples = L((*s[0], *s[1:]) for s in samples)\n",
    "        if trunc_at is not None: samples = L((s[0].truncate(trunc_at), s[1].truncate(trunc_at), *s[2:]) for s in samples)\n",
    "    elif trunc_at is not None: samples = L((s[0].truncate(trunc_at),*s[1:]) for s in samples)\n",
    "    ctxs = show_results[object](x, y, samples, outs, ctxs=ctxs, max_n=max_n, **kwargs)\n",
    "    display_df(pd.DataFrame(ctxs))\n",
    "    return ctxs"
   ]
  },
  {
   "cell_type": "code",
   "execution_count": null,
   "id": "3a32d873",
   "metadata": {},
   "outputs": [],
   "source": [
    "#export\n",
    "def to_device(b, device=None):\n",
    "    \"Recursively put `b` on `device`. Handles `BatchEncoding`s\"\n",
    "    if defaults.use_cuda==False: device='cpu'\n",
    "    elif device is None: device=default_device()\n",
    "    def _inner(o):      \n",
    "        if isinstance(o,Tensor): return o.to(device, non_blocking=True)\n",
    "        elif isinstance(o,BatchEncoding): return o.to(device)\n",
    "        # elif hasattr(o, \"to_device\"): return o.to_device(device)\n",
    "        else: return o\n",
    "    return apply(_inner, b)"
   ]
  },
  {
   "cell_type": "code",
   "execution_count": null,
   "id": "a9bc7eb3",
   "metadata": {},
   "outputs": [],
   "source": [
    "#cuda\n",
    "device = torch.device('cuda:0')\n",
    "d = {'a':tensor([1,2,3])}\n",
    "d_cuda = to_device(d)\n",
    "assert d_cuda['a'].device == device"
   ]
  },
  {
   "cell_type": "code",
   "execution_count": null,
   "id": "8d5a3675",
   "metadata": {},
   "outputs": [],
   "source": [
    "#export\n",
    "class TransCallback(Callback):\n",
    "    \"Handles HuggingFace model inputs and outputs\"\n",
    "    def __init__(self, model):\n",
    "        self.labels = tuple()\n",
    "        self.model_args = {k:v.default for k, v in signature(model.forward).parameters.items()}\n",
    "    \n",
    "    def before_batch(self):\n",
    "        if 'labels' in self.xb[0].keys():\n",
    "            self.labels = (self.xb[0]['labels'], )\n",
    "        self.learn.xb = tuple([self.xb[0].get(k, self.model_args[k]) for k in self.model_args.keys()])\n",
    "    \n",
    "    def after_pred(self):\n",
    "        if 'loss' in self.pred:\n",
    "            self.learn.loss_grad = self.pred.loss\n",
    "            self.learn.loss = self.pred.loss.clone()\n",
    "        if isinstance(self.pred, QuestionAnsweringModelOutput):\n",
    "            self.learn.pred = (self.pred.start_logits, self.pred.end_logits)\n",
    "        else: self.learn.pred = self.pred.logits\n",
    "    \n",
    "    def after_loss(self):\n",
    "        if len(self.labels):\n",
    "            self.learn.yb = self.labels\n",
    "            self.labels = tuple()"
   ]
  },
  {
   "cell_type": "code",
   "execution_count": null,
   "id": "7ea52e12",
   "metadata": {},
   "outputs": [],
   "source": [
    "#export\n",
    "@delegates(Learner.__init__)\n",
    "class TransLearner(Learner):\n",
    "    \"Learner for training transformers from HuggingFace\"\n",
    "    def __init__(self, dls, model, **kwargs):\n",
    "        splitter = kwargs.get('splitter', None)\n",
    "        if splitter is None: kwargs['splitter'] = default_splitter\n",
    "        super().__init__(dls, model, **kwargs)\n",
    "        self.add_cb(TransCallback(model))"
   ]
  },
  {
   "cell_type": "code",
   "execution_count": null,
   "id": "bf5d2227",
   "metadata": {},
   "outputs": [],
   "source": [
    "#export\n",
    "@patch\n",
    "def _set_device(self:TransLearner, b):\n",
    "    model_device = torch.device(torch.cuda.current_device()) if next(self.model.parameters()).is_cuda else torch.device('cpu')\n",
    "    dls_device = getattr(self.dls, 'device', default_device())\n",
    "    if model_device == dls_device: return to_device(b, dls_device)\n",
    "    else: return to_device(b, model_device)"
   ]
  },
  {
   "cell_type": "markdown",
   "id": "8c71346d",
   "metadata": {},
   "source": [
    "### Using TransLearner for sequence classification"
   ]
  },
  {
   "cell_type": "code",
   "execution_count": null,
   "id": "dc314670",
   "metadata": {},
   "outputs": [],
   "source": [
    "#slow\n",
    "path = untar_data(URLs.IMDB_SAMPLE)\n",
    "texts = pd.read_csv(path/'texts.csv')\n",
    "\n",
    "model_name = 'distilbert-base-uncased'\n",
    "max_len = 128\n",
    "bs = 8\n",
    "val_bs = 16\n",
    "tokenizer = AutoTokenizer.from_pretrained(model_name)\n",
    "dblock = DataBlock(blocks = [TransformersTextBlock(tokenizer=tokenizer), CategoryBlock()],\n",
    "                   get_x=ItemGetter('text'),\n",
    "                   get_y=ItemGetter('label'),\n",
    "                   splitter=ColSplitter())\n",
    "dls = dblock.dataloaders(texts, bs=bs, val_bs=val_bs)"
   ]
  },
  {
   "cell_type": "code",
   "execution_count": null,
   "id": "c112a420",
   "metadata": {},
   "outputs": [
    {
     "name": "stderr",
     "output_type": "stream",
     "text": [
      "Some weights of the model checkpoint at distilbert-base-uncased were not used when initializing DistilBertForSequenceClassification: ['vocab_layer_norm.weight', 'vocab_layer_norm.bias', 'vocab_transform.bias', 'vocab_projector.bias', 'vocab_projector.weight', 'vocab_transform.weight']\n",
      "- This IS expected if you are initializing DistilBertForSequenceClassification from the checkpoint of a model trained on another task or with another architecture (e.g. initializing a BertForSequenceClassification model from a BertForPreTraining model).\n",
      "- This IS NOT expected if you are initializing DistilBertForSequenceClassification from the checkpoint of a model that you expect to be exactly identical (initializing a BertForSequenceClassification model from a BertForSequenceClassification model).\n",
      "Some weights of DistilBertForSequenceClassification were not initialized from the model checkpoint at distilbert-base-uncased and are newly initialized: ['classifier.weight', 'pre_classifier.bias', 'classifier.bias', 'pre_classifier.weight']\n",
      "You should probably TRAIN this model on a down-stream task to be able to use it for predictions and inference.\n"
     ]
    },
    {
     "data": {
      "text/html": [
       "<table border=\"1\" class=\"dataframe\">\n",
       "  <thead>\n",
       "    <tr style=\"text-align: left;\">\n",
       "      <th>epoch</th>\n",
       "      <th>train_loss</th>\n",
       "      <th>valid_loss</th>\n",
       "      <th>accuracy</th>\n",
       "      <th>time</th>\n",
       "    </tr>\n",
       "  </thead>\n",
       "  <tbody>\n",
       "    <tr>\n",
       "      <td>0</td>\n",
       "      <td>0.525150</td>\n",
       "      <td>0.571722</td>\n",
       "      <td>0.730000</td>\n",
       "      <td>00:22</td>\n",
       "    </tr>\n",
       "    <tr>\n",
       "      <td>1</td>\n",
       "      <td>0.311822</td>\n",
       "      <td>0.347995</td>\n",
       "      <td>0.880000</td>\n",
       "      <td>00:22</td>\n",
       "    </tr>\n",
       "  </tbody>\n",
       "</table>"
      ],
      "text/plain": [
       "<IPython.core.display.HTML object>"
      ]
     },
     "metadata": {},
     "output_type": "display_data"
    }
   ],
   "source": [
    "#slow\n",
    "model = AutoModelForSequenceClassification.from_pretrained(model_name)\n",
    "learn = TransLearner(dls, model, metrics=accuracy)\n",
    "learn.fit(2, 2e-5)"
   ]
  },
  {
   "cell_type": "markdown",
   "id": "43d2366f",
   "metadata": {},
   "source": [
    "## Fin"
   ]
  },
  {
   "cell_type": "code",
   "execution_count": null,
   "id": "6f7048f3",
   "metadata": {},
   "outputs": [
    {
     "name": "stdout",
     "output_type": "stream",
     "text": [
      "Converted 00_data.ipynb.\n",
      "Converted 01_learner.ipynb.\n",
      "Converted 10_examples.classification-imdb.ipynb.\n",
      "Converted 11_examples.mlm-imdb.ipynb.\n",
      "Converted 12_examples.glue-benchmark.ipynb.\n",
      "Converted 12a_examples.glue-benchmark-sweeps.ipynb.\n",
      "Converted index.ipynb.\n"
     ]
    }
   ],
   "source": [
    "#hide\n",
    "from nbdev.export import notebook2script; notebook2script()"
   ]
  },
  {
   "cell_type": "code",
   "execution_count": null,
   "id": "c989b220",
   "metadata": {},
   "outputs": [],
   "source": []
  }
 ],
 "metadata": {
  "kernelspec": {
   "display_name": "Python 3",
   "language": "python",
   "name": "python3"
  }
 },
 "nbformat": 4,
 "nbformat_minor": 5
}
