{
 "cells": [
  {
   "cell_type": "code",
   "execution_count": null,
   "metadata": {},
   "outputs": [
    {
     "name": "stdout",
     "output_type": "stream",
     "text": [
      "Wed Jun  2 09:59:31 2021       \n",
      "+-----------------------------------------------------------------------------+\n",
      "| NVIDIA-SMI 465.19.01    Driver Version: 460.32.03    CUDA Version: 11.2     |\n",
      "|-------------------------------+----------------------+----------------------+\n",
      "| GPU  Name        Persistence-M| Bus-Id        Disp.A | Volatile Uncorr. ECC |\n",
      "| Fan  Temp  Perf  Pwr:Usage/Cap|         Memory-Usage | GPU-Util  Compute M. |\n",
      "|                               |                      |               MIG M. |\n",
      "|===============================+======================+======================|\n",
      "|   0  Tesla P100-PCIE...  Off  | 00000000:00:04.0 Off |                    0 |\n",
      "| N/A   40C    P0    27W / 250W |      0MiB / 16280MiB |      0%      Default |\n",
      "|                               |                      |                  N/A |\n",
      "+-------------------------------+----------------------+----------------------+\n",
      "                                                                               \n",
      "+-----------------------------------------------------------------------------+\n",
      "| Processes:                                                                  |\n",
      "|  GPU   GI   CI        PID   Type   Process name                  GPU Memory |\n",
      "|        ID   ID                                                   Usage      |\n",
      "|=============================================================================|\n",
      "|  No running processes found                                                 |\n",
      "+-----------------------------------------------------------------------------+\n"
     ]
    }
   ],
   "source": [
    "# hide\n",
    "!nvidia-smi"
   ]
  },
  {
   "cell_type": "code",
   "execution_count": null,
   "metadata": {},
   "outputs": [
    {
     "name": "stdout",
     "output_type": "stream",
     "text": [
      "\u001b[K     |████████████████████████████████| 204kB 7.7MB/s \n",
      "\u001b[K     |████████████████████████████████| 2.3MB 13.8MB/s \n",
      "\u001b[K     |████████████████████████████████| 235kB 37.4MB/s \n",
      "\u001b[K     |████████████████████████████████| 1.8MB 36.7MB/s \n",
      "\u001b[K     |████████████████████████████████| 1.5MB 37.3MB/s \n",
      "\u001b[K     |████████████████████████████████| 61kB 8.4MB/s \n",
      "\u001b[K     |████████████████████████████████| 3.3MB 31.5MB/s \n",
      "\u001b[K     |████████████████████████████████| 901kB 34.1MB/s \n",
      "\u001b[K     |████████████████████████████████| 112kB 44.2MB/s \n",
      "\u001b[K     |████████████████████████████████| 245kB 35.1MB/s \n",
      "\u001b[K     |████████████████████████████████| 102kB 11.7MB/s \n",
      "\u001b[K     |████████████████████████████████| 174kB 39.8MB/s \n",
      "\u001b[K     |████████████████████████████████| 133kB 39.6MB/s \n",
      "\u001b[K     |████████████████████████████████| 71kB 8.4MB/s \n",
      "\u001b[?25h  Building wheel for subprocess32 (setup.py) ... \u001b[?25l\u001b[?25hdone\n",
      "  Building wheel for pathtools (setup.py) ... \u001b[?25l\u001b[?25hdone\n",
      "  Building wheel for fasthugs (setup.py) ... \u001b[?25l\u001b[?25hdone\n"
     ]
    }
   ],
   "source": [
    "# hide\n",
    "import sys\n",
    "if 'google.colab' in sys.modules:\n",
    "    !pip install -Uqq fastai transformers datasets wandb rouge-score nltk\n",
    "    !pip install -q git+git://github.com/aikindergarten/fasthugs.git@sum"
   ]
  },
  {
   "cell_type": "code",
   "execution_count": null,
   "metadata": {},
   "outputs": [],
   "source": [
    "#all_slow"
   ]
  },
  {
   "cell_type": "markdown",
   "metadata": {},
   "source": [
    "# Summarization"
   ]
  },
  {
   "cell_type": "code",
   "execution_count": null,
   "metadata": {},
   "outputs": [],
   "source": [
    "#hide\n",
    "from transformers import AutoModelForSeq2SeqLM, DataCollatorForSeq2Seq, MarianConfig, AutoTokenizer, AutoConfig\n",
    "from datasets import load_dataset, load_metric, concatenate_datasets\n",
    "from fastai.text.all import *\n",
    "from fastai.callback.wandb import *\n",
    "import nltk\n",
    "from fasthugs.learner import TransLearner, GeneratePreds\n",
    "from fasthugs.data import TransformersTextBlock, TextGetter, KeyGetter, get_splits\n",
    "from fasthugs.metrics import RougeScore"
   ]
  },
  {
   "cell_type": "markdown",
   "metadata": {},
   "source": [
    "## Setup"
   ]
  },
  {
   "cell_type": "code",
   "execution_count": null,
   "metadata": {},
   "outputs": [],
   "source": [
    "model_name = \"t5-small\"\n",
    "\n",
    "max_len = 512\n",
    "bs = 16\n",
    "val_bs = bs*2\n",
    "\n",
    "lr = 2e-5"
   ]
  },
  {
   "cell_type": "code",
   "execution_count": null,
   "metadata": {},
   "outputs": [
    {
     "data": {
      "application/vnd.jupyter.widget-view+json": {
       "model_id": "7cce98c75c5f4bbaabd3965981aacd11",
       "version_major": 2,
       "version_minor": 0
      },
      "text/plain": [
       "HBox(children=(FloatProgress(value=0.0, description='Downloading', max=1930.0, style=ProgressStyle(description…"
      ]
     },
     "metadata": {},
     "output_type": "display_data"
    },
    {
     "name": "stdout",
     "output_type": "stream",
     "text": [
      "\n"
     ]
    },
    {
     "data": {
      "application/vnd.jupyter.widget-view+json": {
       "model_id": "d5754ad4d0344426b88f4e4196a396ad",
       "version_major": 2,
       "version_minor": 0
      },
      "text/plain": [
       "HBox(children=(FloatProgress(value=0.0, description='Downloading', max=954.0, style=ProgressStyle(description_…"
      ]
     },
     "metadata": {},
     "output_type": "display_data"
    },
    {
     "name": "stderr",
     "output_type": "stream",
     "text": [
      "Using custom data configuration default\n"
     ]
    },
    {
     "name": "stdout",
     "output_type": "stream",
     "text": [
      "\n",
      "Downloading and preparing dataset xsum/default (download: 245.38 MiB, generated: 507.60 MiB, post-processed: Unknown size, total: 752.98 MiB) to /root/.cache/huggingface/datasets/xsum/default/1.2.0/4957825a982999fbf80bca0b342793b01b2611e021ef589fb7c6250b3577b499...\n"
     ]
    },
    {
     "data": {
      "application/vnd.jupyter.widget-view+json": {
       "model_id": "5bd1fe1646924849bf96a8b733bee963",
       "version_major": 2,
       "version_minor": 0
      },
      "text/plain": [
       "HBox(children=(FloatProgress(value=0.0, description='Downloading', max=254582292.0, style=ProgressStyle(descri…"
      ]
     },
     "metadata": {},
     "output_type": "display_data"
    },
    {
     "name": "stdout",
     "output_type": "stream",
     "text": [
      "\n"
     ]
    },
    {
     "data": {
      "application/vnd.jupyter.widget-view+json": {
       "model_id": "5ad5b1699bb54e649e81c82325d69407",
       "version_major": 2,
       "version_minor": 0
      },
      "text/plain": [
       "HBox(children=(FloatProgress(value=0.0, description='Downloading', max=1001503.0, style=ProgressStyle(descript…"
      ]
     },
     "metadata": {},
     "output_type": "display_data"
    },
    {
     "name": "stdout",
     "output_type": "stream",
     "text": [
      "\n"
     ]
    },
    {
     "data": {
      "application/vnd.jupyter.widget-view+json": {
       "model_id": "c8fefc010ce6408a964697364f490e3f",
       "version_major": 2,
       "version_minor": 0
      },
      "text/plain": [
       "HBox(children=(FloatProgress(value=1.0, bar_style='info', max=1.0), HTML(value='')))"
      ]
     },
     "metadata": {},
     "output_type": "display_data"
    },
    {
     "name": "stdout",
     "output_type": "stream",
     "text": [
      "\r"
     ]
    },
    {
     "data": {
      "application/vnd.jupyter.widget-view+json": {
       "model_id": "0e3b013a9faf42f3922a2225e730ad28",
       "version_major": 2,
       "version_minor": 0
      },
      "text/plain": [
       "HBox(children=(FloatProgress(value=1.0, bar_style='info', max=1.0), HTML(value='')))"
      ]
     },
     "metadata": {},
     "output_type": "display_data"
    },
    {
     "name": "stdout",
     "output_type": "stream",
     "text": [
      "\r"
     ]
    },
    {
     "data": {
      "application/vnd.jupyter.widget-view+json": {
       "model_id": "f086ecc61f4340ef9ba28eb7142b2101",
       "version_major": 2,
       "version_minor": 0
      },
      "text/plain": [
       "HBox(children=(FloatProgress(value=1.0, bar_style='info', max=1.0), HTML(value='')))"
      ]
     },
     "metadata": {},
     "output_type": "display_data"
    },
    {
     "name": "stdout",
     "output_type": "stream",
     "text": [
      "Dataset xsum downloaded and prepared to /root/.cache/huggingface/datasets/xsum/default/1.2.0/4957825a982999fbf80bca0b342793b01b2611e021ef589fb7c6250b3577b499. Subsequent calls will reuse this data.\n"
     ]
    }
   ],
   "source": [
    "#hide_output\n",
    "# datasets = load_dataset(\"xsum\")\n",
    "train_ds = load_dataset(\"xsum\", split='validation')"
   ]
  },
  {
   "cell_type": "markdown",
   "metadata": {},
   "source": [
    "## Dataloaders"
   ]
  },
  {
   "cell_type": "code",
   "execution_count": null,
   "metadata": {},
   "outputs": [
    {
     "data": {
      "application/vnd.jupyter.widget-view+json": {
       "model_id": "14c1727ec8964a06af78e7ef6e75c9de",
       "version_major": 2,
       "version_minor": 0
      },
      "text/plain": [
       "HBox(children=(FloatProgress(value=0.0, description='Downloading', max=1197.0, style=ProgressStyle(description…"
      ]
     },
     "metadata": {},
     "output_type": "display_data"
    },
    {
     "name": "stdout",
     "output_type": "stream",
     "text": [
      "\n"
     ]
    },
    {
     "data": {
      "application/vnd.jupyter.widget-view+json": {
       "model_id": "f498c25fe6654265bafcb7fb7fda70eb",
       "version_major": 2,
       "version_minor": 0
      },
      "text/plain": [
       "HBox(children=(FloatProgress(value=0.0, description='Downloading', max=791656.0, style=ProgressStyle(descripti…"
      ]
     },
     "metadata": {},
     "output_type": "display_data"
    },
    {
     "name": "stdout",
     "output_type": "stream",
     "text": [
      "\n"
     ]
    },
    {
     "data": {
      "application/vnd.jupyter.widget-view+json": {
       "model_id": "c3b6ff46473746d3accdc45cc9852001",
       "version_major": 2,
       "version_minor": 0
      },
      "text/plain": [
       "HBox(children=(FloatProgress(value=0.0, description='Downloading', max=1389353.0, style=ProgressStyle(descript…"
      ]
     },
     "metadata": {},
     "output_type": "display_data"
    },
    {
     "name": "stdout",
     "output_type": "stream",
     "text": [
      "\n"
     ]
    }
   ],
   "source": [
    "#hide_output\n",
    "tokenizer = AutoTokenizer.from_pretrained(model_name)"
   ]
  },
  {
   "cell_type": "code",
   "execution_count": null,
   "metadata": {},
   "outputs": [],
   "source": [
    "# splits = get_splits(datasets)\n",
    "# train_ds = concatenate_datasets([datasets['train'], datasets['validation']])"
   ]
  },
  {
   "cell_type": "code",
   "execution_count": null,
   "metadata": {},
   "outputs": [],
   "source": [
    "splits = RandomSplitter()(train_ds)"
   ]
  },
  {
   "cell_type": "code",
   "execution_count": null,
   "metadata": {},
   "outputs": [],
   "source": [
    "@ItemTransform\n",
    "def untuple1(x):\n",
    "    return (*x[0], )"
   ]
  },
  {
   "cell_type": "code",
   "execution_count": null,
   "metadata": {},
   "outputs": [],
   "source": [
    "dblock = DataBlock(\n",
    "    blocks = [TransformersTextBlock(tokenizer=tokenizer, do_targets=True, with_labels=True)],\n",
    "    get_x=TextGetter('document', 'summary', prefix1='summarize: '),\n",
    "    item_tfms=untuple1,\n",
    "    splitter=IndexSplitter(splits[1]))"
   ]
  },
  {
   "cell_type": "code",
   "execution_count": null,
   "metadata": {},
   "outputs": [],
   "source": [
    "#hide\n",
    "# dblock.summary(train_ds)"
   ]
  },
  {
   "cell_type": "code",
   "execution_count": null,
   "metadata": {},
   "outputs": [
    {
     "name": "stdout",
     "output_type": "stream",
     "text": [
      "CPU times: user 6.79 s, sys: 1.34 s, total: 8.13 s\n",
      "Wall time: 15.6 s\n"
     ]
    }
   ],
   "source": [
    "%%time\n",
    "dls = dblock.dataloaders(train_ds, bs=bs, val_bs=bs*2, shuffle=True)"
   ]
  },
  {
   "cell_type": "code",
   "execution_count": null,
   "metadata": {},
   "outputs": [
    {
     "data": {
      "text/plain": [
       "({'attention_mask': tensor([[1, 1, 1,  ..., 1, 1, 1],\n",
       "          [1, 1, 1,  ..., 1, 1, 1],\n",
       "          [1, 1, 1,  ..., 1, 1, 1],\n",
       "          ...,\n",
       "          [1, 1, 1,  ..., 1, 1, 1],\n",
       "          [1, 1, 1,  ..., 1, 1, 1],\n",
       "          [1, 1, 1,  ..., 1, 1, 1]], device='cuda:0'),\n",
       "  'input_ids': tensor([[21603,    10, 11768,  ..., 23080,     7,     1],\n",
       "          [21603,    10,   621,  ...,     3,    60,     1],\n",
       "          [21603,    10,   216,  ...,   826,     8,     1],\n",
       "          ...,\n",
       "          [21603,    10,   901,  ...,    12,   253,     1],\n",
       "          [21603,    10, 10582,  ...,    34,    91,     1],\n",
       "          [21603,    10,    37,  ...,    27,    31,     1]], device='cuda:0'),\n",
       "  'labels': tensor([[18539,  3763, 24570, 15497,     6,  2783,  2213,   262,  2341,    23,\n",
       "            5440,    15,    11,  8929, 16023,  2291,   446,   439, 11768,   697,\n",
       "              33,   859,     8,   168,    18,  5661,  8519,    16,  8288,    12,\n",
       "              43,  1204,  6120,    16,     8,  5286,    31,     7, 13753, 11772,\n",
       "            1211,     7,     5,     1,  -100,  -100,  -100,  -100,  -100],\n",
       "          [   94,  1330,   114,   163,  4981,    24,  4390,  1588,  2314, 15146,\n",
       "           21512,    47,    20, 10661,  1014,   147,   823,    12,  2760,     8,\n",
       "             653,    24,   133,  1369,  1117,   265, 11632,     8,  6552,  2009,\n",
       "            2233,    44, 24895,     3, 21447,     5,     1,  -100,  -100,  -100,\n",
       "            -100,  -100,  -100,  -100,  -100,  -100,  -100,  -100,  -100],\n",
       "          [ 5175,    23, 22699,  1290,   127,     7,  2743, 20809,  2734,  2264,\n",
       "              19,   625,   496,     5,     1,  -100,  -100,  -100,  -100,  -100,\n",
       "            -100,  -100,  -100,  -100,  -100,  -100,  -100,  -100,  -100,  -100,\n",
       "            -100,  -100,  -100,  -100,  -100,  -100,  -100,  -100,  -100,  -100,\n",
       "            -100,  -100,  -100,  -100,  -100,  -100,  -100,  -100,  -100],\n",
       "          [ 9145,   907,  1368,  1766,  5715,    49, 14914,   391, 27207,    65,\n",
       "           25058,    15,    26,  6381,    17,   106,    21,    46,    64,   159,\n",
       "           16221,    26,  2572,     6,  1179,   203,   227,  3140,     8,  4039,\n",
       "               7,    15,    63,  1583,  1886,     5,     1,  -100,  -100,  -100,\n",
       "            -100,  -100,  -100,  -100,  -100,  -100,  -100,  -100,  -100],\n",
       "          [  461,  1701,  7459,  2523,  8757,  1054,   326,    12,   112,  4631,\n",
       "            4319,  1886,    16,  7499,  1109,  1370,     6,   368,  5092,     6,\n",
       "              21,     3,     9,  1003,    18,  1135,  4257,     5,     1,  -100,\n",
       "            -100,  -100,  -100,  -100,  -100,  -100,  -100,  -100,  -100,  -100,\n",
       "            -100,  -100,  -100,  -100,  -100,  -100,  -100,  -100,  -100],\n",
       "          [ 9145,   907,    56,    59,  1369,     3,     9, 23921,    48,   774,\n",
       "               6,    11,     8,   388,   160,   138,   221,    26,    38,     8,\n",
       "              96,   254,  9672,    29,   555,   121,    30,     3,     9, 11662,\n",
       "              16,     8,   472,    60,    17,  2590,  3720,    65,   263,   396,\n",
       "             186,  2714,  3703,    13,   112,   293,     5,     1,  -100],\n",
       "          [   86,  1480,  1671,     6,    16,     8, 15099,    13,  3782,  8913,\n",
       "               6,     8,    20,    49,  9601,   774,  4396,     5,     1,  -100,\n",
       "            -100,  -100,  -100,  -100,  -100,  -100,  -100,  -100,  -100,  -100,\n",
       "            -100,  -100,  -100,  -100,  -100,  -100,  -100,  -100,  -100,  -100,\n",
       "            -100,  -100,  -100,  -100,  -100,  -100,  -100,  -100,  -100],\n",
       "          [31857,     3, 21348,   120,  3492,  1276,   102, 12899, 23578,    31,\n",
       "               7,   626,  6552,  3815,   456,    11,   365,   747,    26,    70,\n",
       "             293,  2233, 17500,    28,     3,     9, 24256,  6224,   147,  9145,\n",
       "             896,    44,  1945, 10498, 11834,     5,     1,  -100,  -100,  -100,\n",
       "            -100,  -100,  -100,  -100,  -100,  -100,  -100,  -100,  -100],\n",
       "          [18263, 22358,    11,  2789,     3,  3108,    49, 15868, 18707,  4397,\n",
       "            7228,    24,   887,    31,     7,  3370, 11364,     7,    11,  5178,\n",
       "             133,    36,    30,   260,    28,     8,  1076,    31,     7,   467,\n",
       "               3,    99,    34,   141,    59,  3762,   118, 18168,    57,     8,\n",
       "           10929,  2125,    21,   943,   203,     5,     1,  -100,  -100],\n",
       "          [  438,  8046,   114,  8570,  8284,   148,    11,    37,  3120,    49,\n",
       "              89,  9670,  6458,  5979,     6, 11762,  7531, 24486,  1012,  3375,\n",
       "             600,  3853,    16,     8,  5541,     7,     5,     1,  -100,  -100,\n",
       "            -100,  -100,  -100,  -100,  -100,  -100,  -100,  -100,  -100,  -100,\n",
       "            -100,  -100,  -100,  -100,  -100,  -100,  -100,  -100,  -100],\n",
       "          [ 5485,    31,     7,  1251, 19241,  7219,    43, 24158,    15,    26,\n",
       "               8,  1722,   234,  2218,   435,    16,    70, 21654,     7,    11,\n",
       "            3665,     3,     9,   126,  4291,  6165,     5,     1,  -100,  -100,\n",
       "            -100,  -100,  -100,  -100,  -100,  -100,  -100,  -100,  -100,  -100,\n",
       "            -100,  -100,  -100,  -100,  -100,  -100,  -100,  -100,  -100],\n",
       "          [  461,   505,  1718,  6911,     6,     3,     9,   712,    45,   874,\n",
       "            7752,  3567,     3,    18,  7488, 14274,     6,  5049,  3899,     6,\n",
       "           15325,  4708,  6992,     6, 31297,  2695,     7,  2831,    51,    11,\n",
       "            5744,    23,  2501,    23,  2091,     3,    18,    47,  1883,    11,\n",
       "             263,   135,  5699,  3056,   300,     8,   296,     5,     1],\n",
       "          [  938,   460,  1752,   128,  2273,   857,    24,  4096,    56,    43,\n",
       "            3495,   936,   593,  6123,     5,     1,  -100,  -100,  -100,  -100,\n",
       "            -100,  -100,  -100,  -100,  -100,  -100,  -100,  -100,  -100,  -100,\n",
       "            -100,  -100,  -100,  -100,  -100,  -100,  -100,  -100,  -100,  -100,\n",
       "            -100,  -100,  -100,  -100,  -100,  -100,  -100,  -100,  -100],\n",
       "          [10172, 24486,  2738,    31,     7,  2871,    18,   715, 10736,     3,\n",
       "           28540,     3,     9,   500,    21, 26956,    38,    79,   764,    45,\n",
       "            1187,  4394,   581,  4551,     7,   115, 13245,     5,     1,  -100,\n",
       "            -100,  -100,  -100,  -100,  -100,  -100,  -100,  -100,  -100,  -100,\n",
       "            -100,  -100,  -100,  -100,  -100,  -100,  -100,  -100,  -100],\n",
       "          [ 2449,  1492,    72,   145,     3,     9,  1025,    13,    70, 26139,\n",
       "            2055,    30,  3170,   640,   508,  1467,    13,  2789,     6,     3,\n",
       "               9,  9938,  4962,    65,   435,     5,     1,  -100,  -100,  -100,\n",
       "            -100,  -100,  -100,  -100,  -100,  -100,  -100,  -100,  -100,  -100,\n",
       "            -100,  -100,  -100,  -100,  -100,  -100,  -100,  -100,  -100],\n",
       "          [   94,    19,  2725,    12,   497,    24,     3, 12290,  6308,  5531,\n",
       "              65,     3,     9, 27330,    21,  8024,     5,     1,  -100,  -100,\n",
       "            -100,  -100,  -100,  -100,  -100,  -100,  -100,  -100,  -100,  -100,\n",
       "            -100,  -100,  -100,  -100,  -100,  -100,  -100,  -100,  -100,  -100,\n",
       "            -100,  -100,  -100,  -100,  -100,  -100,  -100,  -100,  -100]],\n",
       "         device='cuda:0')},)"
      ]
     },
     "execution_count": null,
     "metadata": {},
     "output_type": "execute_result"
    }
   ],
   "source": [
    "#hide\n",
    "b = dls.one_batch()\n",
    "b"
   ]
  },
  {
   "cell_type": "code",
   "execution_count": null,
   "metadata": {},
   "outputs": [
    {
     "data": {
      "text/html": [
       "<table border=\"1\" class=\"dataframe\">\n",
       "  <thead>\n",
       "    <tr style=\"text-align: right;\">\n",
       "      <th></th>\n",
       "      <th>text</th>\n",
       "      <th>text_</th>\n",
       "    </tr>\n",
       "  </thead>\n",
       "  <tbody>\n",
       "    <tr>\n",
       "      <th>0</th>\n",
       "      <td>summarize: Rowling, who was made an OBE in 2001, has now become a member of the elite Order of the Companions of Honour. Judy Murray, mother of world tennis number one Sir Andy, was made an OBE. And Brit Award winner Sande, who was raised in Alford, Aberdeenshire, was made an MBE. Scottish comedian Billy Connolly was given a knighthood. Judy Murray adds to the honours already handed to her two sons. The tennis coach and former captain of Great Britain's Fed Cup team is being recognised for her work to grow the sport and for encouraging more women into sport. Sir Andy Murray, was knighted in the New Year Honours List, while his brother Jamie was made an OBE last year. Harry Potter author Rowling, who was made an OBE in 2001, becomes a member of the Order of the Companions of Honour, which has a maximum of 65</td>\n",
       "      <td>Tennis coach Judy Murray, pop star Emeli Sande and Harry Potter author JK Rowling are among the well-known faces in Scotland to have received awards in the Queen's Birthday Honours.</td>\n",
       "    </tr>\n",
       "    <tr>\n",
       "      <th>1</th>\n",
       "      <td>summarize: Rooney, 31, played 559 times for United, scoring 253 goals. He won five Premier League titles and each of the Champions League, Europa League and FA Cup once after joining from Everton for £27m in 2004. Rooney, who has signed a two-year deal, said he was \"ecstatic\" and his \"first game back will be an emotional day\". \"It's a great feeling to be back. I cannot wait to meet the lads, get on the training pitch and then get on the pitch to play,\" he added. Rooney's return comes as United look set to sign Everton striker Romelu Lukaku, with a £75m deal for the Belgium international agreed between the two clubs. Everton confirmed Rooney will wear the number 10 shirt previously worn by Lukaku. \"I'm not just coming back because it's the team I support, the team I grew up playing for - I'm coming back because I</td>\n",
       "      <td>Manchester United record goalscorer Wayne Rooney has rejoined Everton for an undisclosed fee, 13 years after leaving the Merseyside club.</td>\n",
       "    </tr>\n",
       "    <tr>\n",
       "      <th>2</th>\n",
       "      <td>summarize: The last week of Yvette Cooper's leadership campaign isn't exactly how she predicted it. She has spent more time in Parliament than on the stump. As shadow home secretary she has been leading her party's response to the refugee crisis - initially calling on the government to do more, and now pressing for some of those families who have already fled to Europe to be resettled here. This has helped, rather than harmed, her leadership chances but has also meant more conventional campaigning has had to be discarded. \"I tend to respond most strongly to the most serious issues but I'm trying to keep this apart from the leadership contest, and trying to get cross party agreement to an appropriate response to the refugee crisis,\" she tells me. While I met her rivals \"on the road\" at rallies and meetings, we meet in her parliamentary office. She was on</td>\n",
       "      <td>In the fourth of a series of in-depth profiles of the Labour leadership candidates, Iain Watson catches up with Yvette Cooper.</td>\n",
       "    </tr>\n",
       "    <tr>\n",
       "      <th>3</th>\n",
       "      <td>summarize: Media playback is not supported on this device The home team took the lead when right-back Ben Marshall tucked in a low shot. Victor Moses's equaliser squirmed in and Payet's free-kick put West Ham ahead before Blackburn were reduced to 10 men by Chris Taylor's red card. Emmanuel Emenike converted twice either side of Cheikhou Kouyate's dismissal, then Payet added a superb solo goal. The Hammers, who last won the FA Cup in 1980, will travel to either Shrewsbury or Manchester United in the last eight. It is only the second time in the past 10 seasons that they have reached the quarter-finals. Read how the action unfolded at Ewood Park West Ham have not won a major trophy for 36 years but, in their final season at the Boleyn Ground, are hoping that they can take the FA Cup with them to the Olympic Stadium. Hammers manager Slaven</td>\n",
       "      <td>Dimitri Payet produced a virtuoso performance as West Ham fought back to ease into the FA Cup quarter-finals at Championship side Blackburn.</td>\n",
       "    </tr>\n",
       "  </tbody>\n",
       "</table>"
      ],
      "text/plain": [
       "<IPython.core.display.HTML object>"
      ]
     },
     "metadata": {},
     "output_type": "display_data"
    }
   ],
   "source": [
    "#collapse\n",
    "dls.show_batch(max_n=4)"
   ]
  },
  {
   "cell_type": "code",
   "execution_count": null,
   "metadata": {},
   "outputs": [],
   "source": [
    "#hide\n",
    "# import wandb\n",
    "\n",
    "# WANDB_NAME = f'{ds_name}-{model_name}'\n",
    "# GROUP = f'{ds_name}-{model_name}-simple-{lr:.0e}'\n",
    "# NOTES = f'finetuning {model_name} with RAdam lr={lr:.0e}'\n",
    "# CONFIG = {}\n",
    "# TAGS =[model_name, ds_name, 'radam']"
   ]
  },
  {
   "cell_type": "code",
   "execution_count": null,
   "metadata": {},
   "outputs": [],
   "source": [
    "#hide\n",
    "# wandb.init(reinit=True, project=\"fasthugs\", entity=\"fastai_community\",\n",
    "#            name=WANDB_NAME, group=GROUP, notes=NOTES, tags=TAGS, config=CONFIG);"
   ]
  },
  {
   "cell_type": "markdown",
   "metadata": {},
   "source": [
    "## Training"
   ]
  },
  {
   "cell_type": "code",
   "execution_count": null,
   "metadata": {},
   "outputs": [],
   "source": [
    "model = AutoModelForSeq2SeqLM.from_pretrained(model_name)\n",
    "learn = TransLearner(dls, model, loss_func=noop)"
   ]
  },
  {
   "cell_type": "code",
   "execution_count": null,
   "metadata": {},
   "outputs": [],
   "source": [
    "learn.add_cb(RougeScore(tokenizer));"
   ]
  },
  {
   "cell_type": "code",
   "execution_count": null,
   "metadata": {},
   "outputs": [
    {
     "name": "stdout",
     "output_type": "stream",
     "text": [
      "Start Fit\n",
      "   - before_fit     : [TrainEvalCallback, RougeScore, Recorder, ProgressCallback]\n",
      "  Start Epoch Loop\n",
      "     - before_epoch   : [Recorder, ProgressCallback]\n",
      "    Start Train\n",
      "       - before_train   : [TrainEvalCallback, Recorder, ProgressCallback]\n",
      "      Start Batch Loop\n",
      "         - before_batch   : [TransCallback]\n",
      "         - after_pred     : [TransCallback, RougeScore]\n",
      "         - after_loss     : [TransCallback]\n",
      "         - before_backward: []\n",
      "         - before_step    : []\n",
      "         - after_step     : []\n",
      "         - after_cancel_batch: []\n",
      "         - after_batch    : [TrainEvalCallback, Recorder, ProgressCallback]\n",
      "      End Batch Loop\n",
      "    End Train\n",
      "     - after_cancel_train: [Recorder]\n",
      "     - after_train    : [Recorder, ProgressCallback]\n",
      "    Start Valid\n",
      "       - before_validate: [TrainEvalCallback, Recorder, ProgressCallback]\n",
      "      Start Batch Loop\n",
      "         - **CBs same as train batch**: []\n",
      "      End Batch Loop\n",
      "    End Valid\n",
      "     - after_cancel_validate: [Recorder]\n",
      "     - after_validate : [RougeScore, Recorder, ProgressCallback]\n",
      "  End Epoch Loop\n",
      "   - after_cancel_epoch: []\n",
      "   - after_epoch    : [Recorder]\n",
      "End Fit\n",
      " - after_cancel_fit: []\n",
      " - after_fit      : [ProgressCallback]\n"
     ]
    }
   ],
   "source": [
    "#hide\n",
    "learn.show_training_loop()"
   ]
  },
  {
   "cell_type": "code",
   "execution_count": null,
   "metadata": {},
   "outputs": [
    {
     "data": {
      "text/html": [],
      "text/plain": [
       "<IPython.core.display.HTML object>"
      ]
     },
     "metadata": {},
     "output_type": "display_data"
    },
    {
     "data": {
      "text/plain": [
       "(#5) [3.887169599533081,0.2408951647750222,0.056876429032900334,0.21799074098609333,0.2180012913860141]"
      ]
     },
     "execution_count": null,
     "metadata": {},
     "output_type": "execute_result"
    }
   ],
   "source": [
    "learn.validate()"
   ]
  },
  {
   "cell_type": "code",
   "execution_count": null,
   "metadata": {},
   "outputs": [
    {
     "data": {
      "text/html": [
       "<table border=\"1\" class=\"dataframe\">\n",
       "  <thead>\n",
       "    <tr style=\"text-align: left;\">\n",
       "      <th>epoch</th>\n",
       "      <th>train_loss</th>\n",
       "      <th>valid_loss</th>\n",
       "      <th>rouge1</th>\n",
       "      <th>rouge2</th>\n",
       "      <th>rougeL</th>\n",
       "      <th>rougeLsum</th>\n",
       "      <th>time</th>\n",
       "    </tr>\n",
       "  </thead>\n",
       "  <tbody>\n",
       "    <tr>\n",
       "      <td>0</td>\n",
       "      <td>2.848689</td>\n",
       "      <td>2.597462</td>\n",
       "      <td>0.297854</td>\n",
       "      <td>0.100571</td>\n",
       "      <td>0.271334</td>\n",
       "      <td>0.278742</td>\n",
       "      <td>03:19</td>\n",
       "    </tr>\n",
       "    <tr>\n",
       "      <td>1</td>\n",
       "      <td>2.711888</td>\n",
       "      <td>2.562764</td>\n",
       "      <td>0.302310</td>\n",
       "      <td>0.103245</td>\n",
       "      <td>0.275056</td>\n",
       "      <td>0.282703</td>\n",
       "      <td>03:19</td>\n",
       "    </tr>\n",
       "  </tbody>\n",
       "</table>"
      ],
      "text/plain": [
       "<IPython.core.display.HTML object>"
      ]
     },
     "metadata": {},
     "output_type": "display_data"
    }
   ],
   "source": [
    "learn.fit_one_cycle(2, 1e-4)"
   ]
  },
  {
   "cell_type": "code",
   "execution_count": null,
   "metadata": {},
   "outputs": [],
   "source": [
    "#hide\n",
    "def display_validation_results(res):\n",
    "    m_names = ['train_loss', 'valid_loss']+[m.name for m in learn.metrics]\n",
    "    res_df = pd.DataFrame.from_dict({k:[v] for k,v in zip(m_names, res)})\n",
    "    display_df(res_df)"
   ]
  },
  {
   "cell_type": "code",
   "execution_count": null,
   "metadata": {},
   "outputs": [
    {
     "data": {
      "text/html": [],
      "text/plain": [
       "<IPython.core.display.HTML object>"
      ]
     },
     "metadata": {},
     "output_type": "display_data"
    },
    {
     "data": {
      "text/html": [
       "<table border=\"1\" class=\"dataframe\">\n",
       "  <thead>\n",
       "    <tr style=\"text-align: right;\">\n",
       "      <th></th>\n",
       "      <th>train_loss</th>\n",
       "      <th>valid_loss</th>\n",
       "      <th>rouge1</th>\n",
       "      <th>rouge2</th>\n",
       "      <th>rougeL</th>\n",
       "    </tr>\n",
       "  </thead>\n",
       "  <tbody>\n",
       "    <tr>\n",
       "      <th>0</th>\n",
       "      <td>2.562764</td>\n",
       "      <td>0.302342</td>\n",
       "      <td>0.103331</td>\n",
       "      <td>0.274998</td>\n",
       "      <td>0.282674</td>\n",
       "    </tr>\n",
       "  </tbody>\n",
       "</table>"
      ],
      "text/plain": [
       "<IPython.core.display.HTML object>"
      ]
     },
     "metadata": {},
     "output_type": "display_data"
    },
    {
     "name": "stdout",
     "output_type": "stream",
     "text": [
      "CPU times: user 17.6 s, sys: 391 ms, total: 18 s\n",
      "Wall time: 19.8 s\n"
     ]
    }
   ],
   "source": [
    "%%time\n",
    "res = learn.validate()\n",
    "display_validation_results(res)"
   ]
  },
  {
   "cell_type": "markdown",
   "metadata": {},
   "source": [
    "So far we computed predictions using single forward pass so token generated at timestep $t$ has access to reference tokens $0:t-1$. But this at inference time we will generate autoregressively previously generated tokens are used to generate the next one. Let's evaluete the model with this more realistic procedure. This can be done by adding `GeneratePreds` callback:"
   ]
  },
  {
   "cell_type": "code",
   "execution_count": null,
   "metadata": {},
   "outputs": [
    {
     "data": {
      "text/html": [],
      "text/plain": [
       "<IPython.core.display.HTML object>"
      ]
     },
     "metadata": {},
     "output_type": "display_data"
    },
    {
     "data": {
      "text/html": [
       "<table border=\"1\" class=\"dataframe\">\n",
       "  <thead>\n",
       "    <tr style=\"text-align: right;\">\n",
       "      <th></th>\n",
       "      <th>train_loss</th>\n",
       "      <th>valid_loss</th>\n",
       "      <th>rouge1</th>\n",
       "      <th>rouge2</th>\n",
       "      <th>rougeL</th>\n",
       "    </tr>\n",
       "  </thead>\n",
       "  <tbody>\n",
       "    <tr>\n",
       "      <th>0</th>\n",
       "      <td>2.562764</td>\n",
       "      <td>0.26428</td>\n",
       "      <td>0.067737</td>\n",
       "      <td>0.209218</td>\n",
       "      <td>0.209238</td>\n",
       "    </tr>\n",
       "  </tbody>\n",
       "</table>"
      ],
      "text/plain": [
       "<IPython.core.display.HTML object>"
      ]
     },
     "metadata": {},
     "output_type": "display_data"
    },
    {
     "name": "stdout",
     "output_type": "stream",
     "text": [
      "CPU times: user 40.5 s, sys: 515 ms, total: 41 s\n",
      "Wall time: 42.9 s\n"
     ]
    }
   ],
   "source": [
    "%%time\n",
    "res = learn.validate(cbs=GeneratePreds())\n",
    "display_validation_results(res)"
   ]
  },
  {
   "cell_type": "code",
   "execution_count": null,
   "metadata": {},
   "outputs": [
    {
     "name": "stdout",
     "output_type": "stream",
     "text": [
      "Document:\n",
      "The country's consumer watchdog has taken Apple to court for false advertising because the tablet computer does not work on Australia's 4G network. Apple's lawyers said they were willing to publish a clarification. However the company does not accept that it misled customers. The Australian Competition and Consumer Commission (ACCC) said on Tuesday: \"Apple's recent promotion of the new 'iPad with wi-fi + 4G' is misleading because it represents to Australian consumers that the product can, with a sim card, connect to a 4G mobile data network in Australia, when this is not the case.\" The watchdog then lodged a complaint at the Federal Court in Melbourne. At a preliminary hearing, Apple lawyer Paul Anastassiou said Apple had never claimed the device would work fully on the current 4G network operated by Telstra. Apple says the new iPad works on what is globally accepted to be a 4G network. The matter will go to a full trial on 2 May. The Apple iPad's third version went on sale earlier this month, with Australia the first country where it was available. Shoppers lined up by the hundreds at Apple stores on opening day and the company said it had been its strongest iPad launch to date. The ACCC said it was seeking an injunction on sales as well as a financial penalty against Apple, corrective advertising and refunds to consumers. On its website, Apple does state that 4G LTE is only supported on selected networks in the US and Canada.\n",
      "\n",
      "Reference summary: US technology firm Apple has offered to refund Australian customers who felt misled about the 4G capabilities of the new iPad.\n",
      "\n",
      "Predicted summary: Apple has filed a complaint against the Australian consumer watchdog for misleading advertising on its new iPad\n"
     ]
    }
   ],
   "source": [
    "sample = train_ds[0]\n",
    "document_text = ' '.join(sample['document'].split('\\n'))\n",
    "print(f\"Document:\\n{document_text}\")\n",
    "print(f\"\\nReference summary: {sample['summary']}\")\n",
    "inp = tokenizer('summarize: '+sample['document'], return_tensors='pt')\n",
    "pred = learn.generate(inp['input_ids'].to(dls.device))\n",
    "out = tokenizer.decode(pred[0].cpu(), skip_special_tokens=True)\n",
    "print(f\"\\nPredicted summary: {out}\")"
   ]
  },
  {
   "cell_type": "code",
   "execution_count": null,
   "metadata": {},
   "outputs": [],
   "source": []
  }
 ],
 "metadata": {
  "kernelspec": {
   "display_name": "Python 3",
   "language": "python",
   "name": "python3"
  }
 },
 "nbformat": 4,
 "nbformat_minor": 4
}
