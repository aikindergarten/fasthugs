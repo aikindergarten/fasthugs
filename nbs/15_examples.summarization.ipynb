{
 "cells": [
  {
   "cell_type": "code",
   "execution_count": null,
   "metadata": {},
   "outputs": [
    {
     "name": "stdout",
     "output_type": "stream",
     "text": [
      "Mon May 31 15:53:02 2021       \n",
      "+-----------------------------------------------------------------------------+\n",
      "| NVIDIA-SMI 465.19.01    Driver Version: 460.32.03    CUDA Version: 11.2     |\n",
      "|-------------------------------+----------------------+----------------------+\n",
      "| GPU  Name        Persistence-M| Bus-Id        Disp.A | Volatile Uncorr. ECC |\n",
      "| Fan  Temp  Perf  Pwr:Usage/Cap|         Memory-Usage | GPU-Util  Compute M. |\n",
      "|                               |                      |               MIG M. |\n",
      "|===============================+======================+======================|\n",
      "|   0  Tesla T4            Off  | 00000000:00:04.0 Off |                    0 |\n",
      "| N/A   50C    P8    10W /  70W |      0MiB / 15109MiB |      0%      Default |\n",
      "|                               |                      |                  N/A |\n",
      "+-------------------------------+----------------------+----------------------+\n",
      "                                                                               \n",
      "+-----------------------------------------------------------------------------+\n",
      "| Processes:                                                                  |\n",
      "|  GPU   GI   CI        PID   Type   Process name                  GPU Memory |\n",
      "|        ID   ID                                                   Usage      |\n",
      "|=============================================================================|\n",
      "|  No running processes found                                                 |\n",
      "+-----------------------------------------------------------------------------+\n"
     ]
    }
   ],
   "source": [
    "# hide\n",
    "!nvidia-smi"
   ]
  },
  {
   "cell_type": "code",
   "execution_count": null,
   "metadata": {},
   "outputs": [
    {
     "name": "stdout",
     "output_type": "stream",
     "text": [
      "\u001b[K     |████████████████████████████████| 204kB 25.1MB/s \n",
      "\u001b[K     |████████████████████████████████| 2.3MB 46.2MB/s \n",
      "\u001b[K     |████████████████████████████████| 235kB 55.5MB/s \n",
      "\u001b[K     |████████████████████████████████| 1.8MB 39.5MB/s \n",
      "\u001b[K     |████████████████████████████████| 1.5MB 47.1MB/s \n",
      "\u001b[K     |████████████████████████████████| 61kB 10.7MB/s \n",
      "\u001b[K     |████████████████████████████████| 901kB 42.4MB/s \n",
      "\u001b[K     |████████████████████████████████| 3.3MB 35.5MB/s \n",
      "\u001b[K     |████████████████████████████████| 112kB 52.6MB/s \n",
      "\u001b[K     |████████████████████████████████| 245kB 58.9MB/s \n",
      "\u001b[K     |████████████████████████████████| 174kB 49.9MB/s \n",
      "\u001b[K     |████████████████████████████████| 102kB 15.3MB/s \n",
      "\u001b[K     |████████████████████████████████| 133kB 56.7MB/s \n",
      "\u001b[K     |████████████████████████████████| 71kB 11.5MB/s \n",
      "\u001b[?25h  Building wheel for pathtools (setup.py) ... \u001b[?25l\u001b[?25hdone\n",
      "  Building wheel for subprocess32 (setup.py) ... \u001b[?25l\u001b[?25hdone\n",
      "  Building wheel for fasthugs (setup.py) ... \u001b[?25l\u001b[?25hdone\n"
     ]
    }
   ],
   "source": [
    "# hide\n",
    "import sys\n",
    "if 'google.colab' in sys.modules:\n",
    "    !pip install -Uqq fastai transformers datasets wandb rouge-score nltk\n",
    "    !pip install -q git+git://github.com/aikindergarten/fasthugs.git"
   ]
  },
  {
   "cell_type": "code",
   "execution_count": null,
   "metadata": {},
   "outputs": [],
   "source": [
    "#all_slow"
   ]
  },
  {
   "cell_type": "markdown",
   "metadata": {},
   "source": [
    "# Abstractive summarization with T5"
   ]
  },
  {
   "cell_type": "code",
   "execution_count": null,
   "metadata": {},
   "outputs": [],
   "source": [
    "from transformers import AutoModelForSeq2SeqLM, DataCollatorForSeq2Seq, MarianConfig, AutoTokenizer, AutoConfig\n",
    "from datasets import load_dataset, load_metric, concatenate_datasets\n",
    "from fastai.text.all import *\n",
    "from fastai.callback.wandb import *\n",
    "\n",
    "from fasthugs.learner import TransLearner\n",
    "from fasthugs.data import TransformersTextBlock, TextGetter, get_splits"
   ]
  },
  {
   "cell_type": "markdown",
   "metadata": {},
   "source": [
    "## Setup"
   ]
  },
  {
   "cell_type": "markdown",
   "metadata": {},
   "source": [
    "Let's define main settings for the run in one place:"
   ]
  },
  {
   "cell_type": "code",
   "execution_count": null,
   "metadata": {},
   "outputs": [],
   "source": [
    "model_name = \"t5-small\"\n",
    "\n",
    "max_len = 512\n",
    "bs = 8\n",
    "val_bs = bs*2\n",
    "\n",
    "lr = 2e-5"
   ]
  },
  {
   "cell_type": "code",
   "execution_count": null,
   "metadata": {},
   "outputs": [
    {
     "data": {
      "application/vnd.jupyter.widget-view+json": {
       "model_id": "5e110ab657f240dfaed1ae09539edeb6",
       "version_major": 2,
       "version_minor": 0
      },
      "text/plain": [
       "HBox(children=(FloatProgress(value=0.0, description='Downloading', max=1930.0, style=ProgressStyle(description…"
      ]
     },
     "metadata": {},
     "output_type": "display_data"
    },
    {
     "name": "stdout",
     "output_type": "stream",
     "text": [
      "\n"
     ]
    },
    {
     "data": {
      "application/vnd.jupyter.widget-view+json": {
       "model_id": "c97f0682a2d74dcd87ec944430a76989",
       "version_major": 2,
       "version_minor": 0
      },
      "text/plain": [
       "HBox(children=(FloatProgress(value=0.0, description='Downloading', max=954.0, style=ProgressStyle(description_…"
      ]
     },
     "metadata": {},
     "output_type": "display_data"
    },
    {
     "name": "stderr",
     "output_type": "stream",
     "text": [
      "Using custom data configuration default\n"
     ]
    },
    {
     "name": "stdout",
     "output_type": "stream",
     "text": [
      "\n",
      "Downloading and preparing dataset xsum/default (download: 245.38 MiB, generated: 507.60 MiB, post-processed: Unknown size, total: 752.98 MiB) to /root/.cache/huggingface/datasets/xsum/default/1.2.0/4957825a982999fbf80bca0b342793b01b2611e021ef589fb7c6250b3577b499...\n"
     ]
    },
    {
     "data": {
      "application/vnd.jupyter.widget-view+json": {
       "model_id": "339d7ce354f44f3597ae01d3d013d452",
       "version_major": 2,
       "version_minor": 0
      },
      "text/plain": [
       "HBox(children=(FloatProgress(value=0.0, description='Downloading', max=254582292.0, style=ProgressStyle(descri…"
      ]
     },
     "metadata": {},
     "output_type": "display_data"
    },
    {
     "name": "stdout",
     "output_type": "stream",
     "text": [
      "\n"
     ]
    },
    {
     "data": {
      "application/vnd.jupyter.widget-view+json": {
       "model_id": "ca9c99c8bf8b4933b43beea4d25f6d78",
       "version_major": 2,
       "version_minor": 0
      },
      "text/plain": [
       "HBox(children=(FloatProgress(value=0.0, description='Downloading', max=1001503.0, style=ProgressStyle(descript…"
      ]
     },
     "metadata": {},
     "output_type": "display_data"
    },
    {
     "name": "stdout",
     "output_type": "stream",
     "text": [
      "\n"
     ]
    },
    {
     "data": {
      "application/vnd.jupyter.widget-view+json": {
       "model_id": "e7a31ee8e109480b997acbdf945f17af",
       "version_major": 2,
       "version_minor": 0
      },
      "text/plain": [
       "HBox(children=(FloatProgress(value=1.0, bar_style='info', max=1.0), HTML(value='')))"
      ]
     },
     "metadata": {},
     "output_type": "display_data"
    },
    {
     "name": "stdout",
     "output_type": "stream",
     "text": [
      "\r"
     ]
    },
    {
     "data": {
      "application/vnd.jupyter.widget-view+json": {
       "model_id": "2c5d318479a1438d9a513e1286aa95ce",
       "version_major": 2,
       "version_minor": 0
      },
      "text/plain": [
       "HBox(children=(FloatProgress(value=1.0, bar_style='info', max=1.0), HTML(value='')))"
      ]
     },
     "metadata": {},
     "output_type": "display_data"
    },
    {
     "name": "stdout",
     "output_type": "stream",
     "text": [
      "\r"
     ]
    },
    {
     "data": {
      "application/vnd.jupyter.widget-view+json": {
       "model_id": "635378713d8c423f9f1a4797d62f2312",
       "version_major": 2,
       "version_minor": 0
      },
      "text/plain": [
       "HBox(children=(FloatProgress(value=1.0, bar_style='info', max=1.0), HTML(value='')))"
      ]
     },
     "metadata": {},
     "output_type": "display_data"
    },
    {
     "name": "stdout",
     "output_type": "stream",
     "text": [
      "Dataset xsum downloaded and prepared to /root/.cache/huggingface/datasets/xsum/default/1.2.0/4957825a982999fbf80bca0b342793b01b2611e021ef589fb7c6250b3577b499. Subsequent calls will reuse this data.\n"
     ]
    },
    {
     "data": {
      "application/vnd.jupyter.widget-view+json": {
       "model_id": "bf123bd4c7754aae9943620f36839f8c",
       "version_major": 2,
       "version_minor": 0
      },
      "text/plain": [
       "HBox(children=(FloatProgress(value=0.0, description='Downloading', max=2170.0, style=ProgressStyle(description…"
      ]
     },
     "metadata": {},
     "output_type": "display_data"
    },
    {
     "name": "stdout",
     "output_type": "stream",
     "text": [
      "\n"
     ]
    }
   ],
   "source": [
    "#hide_output\n",
    "datasets = load_dataset(\"xsum\")\n",
    "metric = load_metric(\"rouge\")"
   ]
  },
  {
   "cell_type": "markdown",
   "metadata": {},
   "source": [
    "## Dataloaders"
   ]
  },
  {
   "cell_type": "code",
   "execution_count": null,
   "metadata": {},
   "outputs": [],
   "source": [
    "tokenizer = AutoTokenizer.from_pretrained(model_name)"
   ]
  },
  {
   "cell_type": "code",
   "execution_count": null,
   "metadata": {},
   "outputs": [],
   "source": [
    "# splits = get_splits(datasets)\n",
    "# train_ds = concatenate_datasets([datasets['train'], datasets['validation']])"
   ]
  },
  {
   "cell_type": "code",
   "execution_count": null,
   "metadata": {},
   "outputs": [],
   "source": [
    "train_ds = datasets['validation']\n",
    "splits = RandomSplitter()(train_ds)"
   ]
  },
  {
   "cell_type": "code",
   "execution_count": null,
   "metadata": {},
   "outputs": [],
   "source": [
    "@ItemTransform\n",
    "def untuple1(x):\n",
    "    return (*x[0], )"
   ]
  },
  {
   "cell_type": "code",
   "execution_count": null,
   "metadata": {},
   "outputs": [],
   "source": [
    "dblock = DataBlock(\n",
    "    blocks = [TransformersTextBlock(tokenizer=tokenizer, do_targets=True, with_labels=True)],\n",
    "    get_x=TextGetter('document', 'summary', prefix1='summarize: '),\n",
    "    item_tfms=untuple1,\n",
    "    splitter=IndexSplitter(splits[1]))"
   ]
  },
  {
   "cell_type": "code",
   "execution_count": null,
   "metadata": {},
   "outputs": [],
   "source": [
    "#hide\n",
    "# dblock.summary(df)"
   ]
  },
  {
   "cell_type": "code",
   "execution_count": null,
   "metadata": {},
   "outputs": [
    {
     "name": "stdout",
     "output_type": "stream",
     "text": [
      "CPU times: user 3.13 s, sys: 37.5 ms, total: 3.16 s\n",
      "Wall time: 3.14 s\n"
     ]
    }
   ],
   "source": [
    "%%time\n",
    "bs = 16\n",
    "dls = dblock.dataloaders(train_ds, bs=bs, val_bs=bs*2, shuffle=True)"
   ]
  },
  {
   "cell_type": "code",
   "execution_count": null,
   "metadata": {},
   "outputs": [
    {
     "data": {
      "text/plain": [
       "({'attention_mask': tensor([[1, 1, 1,  ..., 1, 1, 1],\n",
       "          [1, 1, 1,  ..., 1, 1, 1],\n",
       "          [1, 1, 1,  ..., 1, 1, 1],\n",
       "          ...,\n",
       "          [1, 1, 1,  ..., 1, 1, 1],\n",
       "          [1, 1, 1,  ..., 1, 1, 1],\n",
       "          [1, 1, 1,  ..., 1, 1, 1]], device='cuda:0'),\n",
       "  'input_ids': tensor([[21603,    10,    37,  ...,   112, 23761,     1],\n",
       "          [21603,    10,    37,  ...,  5054,     3,     1],\n",
       "          [21603,    10,  9145,  ...,     8,  2968,     1],\n",
       "          ...,\n",
       "          [21603,    10, 10582,  ...,    34,    91,     1],\n",
       "          [21603,    10,  1186,  ...,     8,  3202,     1],\n",
       "          [21603,    10,    37,  ...,   739,   179,     1]], device='cuda:0'),\n",
       "  'labels': tensor([[  282,   373,  1330,    12,    36,     8,   495,     6,     8,  6971,\n",
       "              15,   888,    13,     8,  1248,  2025,  2034,    47,   646,    12,\n",
       "               8,   804,   239,     6,    28,     3, 21031,   122,   173,  4049,\n",
       "             309, 25548,    31,     7,   307,    18,   235,  2810,    26,  3615,\n",
       "              12, 28165,    45, 21748,  2031,   271,  2012,     5,     1,  -100,\n",
       "            -100,  -100,  -100,  -100,  -100,  -100,  -100],\n",
       "          [  621,     8,  1345,    11,  4223,    63,    13,     8, 13857,  3259,\n",
       "               6,     8, 25804,  8101,  1330,  1066,    72,  4354,    16,     8,\n",
       "            1107,   471,     6,    28,   231,    13,     8,   167,  1516,  1041,\n",
       "             838,   286,    30,     8,  4492, 20358,     5,     1,  -100,  -100,\n",
       "            -100,  -100,  -100,  -100,  -100,  -100,  -100,  -100,  -100,  -100,\n",
       "            -100,  -100,  -100,  -100,  -100,  -100,  -100],\n",
       "          [14373,  6997,    70,  9445,  2700,   991,    44,     8,   420,    13,\n",
       "               8,  6552,  3815,    28,     3,     9,     3, 17234,  1369,    44,\n",
       "           28089,     6,   298, 31857,  3853, 28165,     3, 17234,    44,   234,\n",
       "              12,  1049,   511,     5,     1,  -100,  -100,  -100,  -100,  -100,\n",
       "            -100,  -100,  -100,  -100,  -100,  -100,  -100,  -100,  -100,  -100,\n",
       "            -100,  -100,  -100,  -100,  -100,  -100,  -100],\n",
       "          [   27,   317,    34,    19, 22565,    24,    16,  1233,     3,     9,\n",
       "            1886,     8,   812,    13,  9145,   907,   405,    59,    43,     3,\n",
       "               9,   887,    31,     7,   372,     6,    11,   125,    19,   237,\n",
       "            4131,    19,    79,    56,    59,  3085,  3209,    70,  1102,     5,\n",
       "               1,  -100,  -100,  -100,  -100,  -100,  -100,  -100,  -100,  -100,\n",
       "            -100,  -100,  -100,  -100,  -100,  -100,  -100],\n",
       "          [ 2003,  9765, 13450,   369,    12, 11902,   112, 16242,   821,    16,\n",
       "           18002,    21,     8,  2698, 12942,    13,  1740,    58,     1,  -100,\n",
       "            -100,  -100,  -100,  -100,  -100,  -100,  -100,  -100,  -100,  -100,\n",
       "            -100,  -100,  -100,  -100,  -100,  -100,  -100,  -100,  -100,  -100,\n",
       "            -100,  -100,  -100,  -100,  -100,  -100,  -100,  -100,  -100,  -100,\n",
       "            -100,  -100,  -100,  -100,  -100,  -100,  -100],\n",
       "          [14984,  7137,     6,   452,  5678,    11,     8,   268,   573,    43,\n",
       "             118,  8922,    53,    12,     8,  1506,    24,  5961,  5316,     3,\n",
       "           16911,  1485,  3271,  3394, 13528,    76,    77,   655,    65,     3,\n",
       "              60, 15532,    16,  4973,    44,     8,  5834,    13,     3,     9,\n",
       "           14761,  4513,  5866,  5336,    24,    19,   952,    12,   583,     8,\n",
       "           15375,  3996,   591,  2394,    51,     5,     1],\n",
       "          [ 9938,  8288,   585,    65,  2008,    24, 10308,    28,     3,  8049,\n",
       "           11615,    43,  2237,    12,    72,  6659,    31, 27503,   271,  1026,\n",
       "             147,    57,   533,  8126,     5,     1,  -100,  -100,  -100,  -100,\n",
       "            -100,  -100,  -100,  -100,  -100,  -100,  -100,  -100,  -100,  -100,\n",
       "            -100,  -100,  -100,  -100,  -100,  -100,  -100,  -100,  -100,  -100,\n",
       "            -100,  -100,  -100,  -100,  -100,  -100,  -100],\n",
       "          [  438, 29017, 16208,  2482,  3009,     6,     8,  9735,    19,    78,\n",
       "             231, 11972,    95,    16,     8,   388,    24,    34,    19,   557,\n",
       "             614,    12,  2450,   685,    45,  8973,     5,     1,  -100,  -100,\n",
       "            -100,  -100,  -100,  -100,  -100,  -100,  -100,  -100,  -100,  -100,\n",
       "            -100,  -100,  -100,  -100,  -100,  -100,  -100,  -100,  -100,  -100,\n",
       "            -100,  -100,  -100,  -100,  -100,  -100,  -100],\n",
       "          [ 3434,   130,     3, 31657,   296,  6336,     7,    21,     8,  4509,\n",
       "              97,    38, 14082, 13031,   776,    31,     7,   996,    18,   715,\n",
       "            4668,  3853, 17946,    16,     8,  1412,  1150,  3802,   804,     5,\n",
       "               1,  -100,  -100,  -100,  -100,  -100,  -100,  -100,  -100,  -100,\n",
       "            -100,  -100,  -100,  -100,  -100,  -100,  -100,  -100,  -100,  -100,\n",
       "            -100,  -100,  -100,  -100,  -100,  -100,  -100],\n",
       "          [28089,  7760,     3,     9,  1025, 25694,  6552,  3815,  6224,    38,\n",
       "              79,   147,  6527,    15,     3,     9, 18041,     7,    15,     9,\n",
       "             596,   341,   406,     3,     9,  1369,   437,     8,  2101,   239,\n",
       "              13,     8,   774,     5,     1,  -100,  -100,  -100,  -100,  -100,\n",
       "            -100,  -100,  -100,  -100,  -100,  -100,  -100,  -100,  -100,  -100,\n",
       "            -100,  -100,  -100,  -100,  -100,  -100,  -100],\n",
       "          [21194, 14804,     7,  5153,     8,    59,   127, 27115,    42,    44,\n",
       "           11674,    38,   231,   452,  6899,     9,  8052,    38,     8,    78,\n",
       "              18,  9341,    96, 16334,    52,     7,  8054,   588,    49,  1686,\n",
       "           15498, 24927,     6,   113,    65,  3977,    44,     8,  1246,    13,\n",
       "               3,  4440,     5,     1,  -100,  -100,  -100,  -100,  -100,  -100,\n",
       "            -100,  -100,  -100,  -100,  -100,  -100,  -100],\n",
       "          [   86,   851,    13,   489,  5898,  3788,   722,    44,     3,     9,\n",
       "            7614,  3525,  3083,    89,  2590,    30,  1771,  3742,     6,  9145,\n",
       "             907,    56, 16314,    95,    12, 11140,  3647,    51,  1494,    13,\n",
       "             126,  3683,    38,    79,   240,    30,  1593,  5554,    16,     8,\n",
       "            2630,  5533,    16,     8,   296,     5,     1,  -100,  -100,  -100,\n",
       "            -100,  -100,  -100,  -100,  -100,  -100,  -100],\n",
       "          [ 2042, 10265,    31,  3080, 18831,    11,  2185,  5845,  1092,    33,\n",
       "             859,     8,   600,  3056,  3788, 14886,    12,  7556,  5704,    29,\n",
       "              63, 10731,     6,   113,    65,  3977,  9742,     3,  4959,     6,\n",
       "               3, 16012,   376,    38,    96,   532,   842,    11,  3668,    13,\n",
       "             391,  7412,   308,   357,  1280,     1,  -100,  -100,  -100,  -100,\n",
       "            -100,  -100,  -100,  -100,  -100,  -100,  -100],\n",
       "          [ 2449,  1492,    72,   145,     3,     9,  1025,    13,    70, 26139,\n",
       "            2055,    30,  3170,   640,   508,  1467,    13,  2789,     6,     3,\n",
       "               9,  9938,  4962,    65,   435,     5,     1,  -100,  -100,  -100,\n",
       "            -100,  -100,  -100,  -100,  -100,  -100,  -100,  -100,  -100,  -100,\n",
       "            -100,  -100,  -100,  -100,  -100,  -100,  -100,  -100,  -100,  -100,\n",
       "            -100,  -100,  -100,  -100,  -100,  -100,  -100],\n",
       "          [ 5076,    33, 10902,     8, 10587,   663,    13,     3,     9,   874,\n",
       "              18,  1201,    18,  1490,  3202,    16,  1908,   210,    63,     7,\n",
       "              38,     3,     9, 18024,   703,  8291,     5,     1,  -100,  -100,\n",
       "            -100,  -100,  -100,  -100,  -100,  -100,  -100,  -100,  -100,  -100,\n",
       "            -100,  -100,  -100,  -100,  -100,  -100,  -100,  -100,  -100,  -100,\n",
       "            -100,  -100,  -100,  -100,  -100,  -100,  -100],\n",
       "          [   71,   384,    84,  1513,   386,   724,    16,     8, 18588,  2701,\n",
       "               3,   322,   651,  8420,    19,    12,   281,  2177,    28,     3,\n",
       "               9,  6894,    12,  1726,     3,     9,  1045, 22670,    13,     8,\n",
       "            2535,     5,     1,  -100,  -100,  -100,  -100,  -100,  -100,  -100,\n",
       "            -100,  -100,  -100,  -100,  -100,  -100,  -100,  -100,  -100,  -100,\n",
       "            -100,  -100,  -100,  -100,  -100,  -100,  -100]], device='cuda:0')},)"
      ]
     },
     "execution_count": null,
     "metadata": {},
     "output_type": "execute_result"
    }
   ],
   "source": [
    "#hide\n",
    "b = dls.one_batch()\n",
    "b"
   ]
  },
  {
   "cell_type": "code",
   "execution_count": null,
   "metadata": {},
   "outputs": [
    {
     "data": {
      "text/html": [
       "<table border=\"1\" class=\"dataframe\">\n",
       "  <thead>\n",
       "    <tr style=\"text-align: right;\">\n",
       "      <th></th>\n",
       "      <th>text</th>\n",
       "      <th>text_</th>\n",
       "    </tr>\n",
       "  </thead>\n",
       "  <tbody>\n",
       "    <tr>\n",
       "      <th>0</th>\n",
       "      <td>summarize: The £13m fee, along with the £2m paid by Sunderland for fellow defender Adam Matthews, suggests that the Scottish champions once again emerged from summer dealings having made a profit. Striker Nadir Ciftci, from Dundee United, and defender Dedryck Boyata, from Manchester City, arrived for about £1.5m each, while Celtic still had some spare change to purchase centre-back Jozo Simunovic from Dinamo Zagreb and midfielder Ryan Christie from Inverness Caledonian Thistle on the final day of the window. The number of other clubs willing or able to pay transfer or compensation fees has been on the increase and Dundee, Dundee United, Hearts, Motherwell and Ross County have all loosened the purse strings to some degree. However, cost cutting remains as squad sizes continue to shrink County under Jim McIntyre continued where Derek Adams left off in previous seasons with the biggest turnover of staff along with Motherwell, where an</td>\n",
       "      <td>As always seems to be the case, the marquee move of the summer transfer window was left to the final day, with Virgil van Dijk's long-touted switch to Southampton from Celtic finally being completed.</td>\n",
       "    </tr>\n",
       "    <tr>\n",
       "      <th>1</th>\n",
       "      <td>summarize: Manchester City and Liverpool played out a pulsating 1-1 draw and Manchester United moved into fifth as a 3-1 win at Middlesbrough saw them move above Arsenal, who lost 3-1 at West Brom. Elsewhere, Bournemouth steered well clear of the drop thanks to a 2-0 victory over Swansea, while there were wins for Everton, Crystal Palace and Leicester City. Pick your XI from our list and share with your friends. Do you agree with my team of the week or would you go for a different team? Why not pick your very own team of the week from the shortlist selected by BBC Sport journalists and share it with your friends? Two of the best saves you will see from Kasper Schmeichel, and reminiscent of his father Peter Schmeichel at his best. The save from Andy Carroll's header was immense and the shot stop from the same player was</td>\n",
       "      <td>Chelsea maintained their 10-point lead at the top of the Premier League with a 2-1 win at Stoke, while Tottenham beat Southampton 2-1 at home to stay second.</td>\n",
       "    </tr>\n",
       "    <tr>\n",
       "      <th>2</th>\n",
       "      <td>summarize: I'm scared because there is also a clock counting down in the bottom right-hand corner so something important must be about to happen like the arrival of the four horsemen of the Apocalypse but it turns out Shaun Batt has joined Leyton Orient from Millwall instead. On loan. Welcome to Transfer Deadline Day, which I've deliberately written in capitals because there are those who think we should make it a public holiday. Chaotic and stressful and full of panic buying, Transfer Deadline Day and the window that precedes it make up football's equivalent of the Yuletide season, with Sky Sports' Jim White playing its equivalent of Santa. \"Sorry, no joy with Fabregas, I brought you Fellaini instead.\" A magnificent irony of transfer windows is that they were introduced in 2002-03 in part to stabilise the game. It's about ducking and diving, maybe finding a player whose mother-in-law lives in</td>\n",
       "      <td>There is a man on my telly standing outside The Den in a suit speaking fast and portentously without full stops or commas and with lots of superlatives.</td>\n",
       "    </tr>\n",
       "    <tr>\n",
       "      <th>3</th>\n",
       "      <td>summarize: Rivals were awestruck by the amount of mileage the team were able to manage with a brand new car. Mercedes were determined to turn so many laps that they had to start splitting each day between drivers Lewis Hamilton and Nico Rosberg to avoid over-exerting them. \"Amazing,\" said Williams technical chief Pat Symonds. Another senior figure put it into context: \"800km is an entire grand prix weekend in one day.\" Not everyone was charitable, though. \"It looks like they're gearing up to take that car to Le Mans,\" said one rival. \"It's admirable, but it's taking the Mickey a bit. You don't need to do that many miles.\" Perhaps not. But, at this stage of the preparations, as Hamilton put it: 'Mileage - that's the key. To try and get as much mileage as we can.\" The world champion added: \"It's incredible. And I've never seen anything like it.</td>\n",
       "      <td>Formula 1 pre-season testing reached its halfway point in Barcelona on Thursday evening and one thing is abundantly clear - Mercedes are once again in formidable shape.</td>\n",
       "    </tr>\n",
       "  </tbody>\n",
       "</table>"
      ],
      "text/plain": [
       "<IPython.core.display.HTML object>"
      ]
     },
     "metadata": {},
     "output_type": "display_data"
    }
   ],
   "source": [
    "#collapse\n",
    "dls.show_batch(max_n=4)"
   ]
  },
  {
   "cell_type": "markdown",
   "metadata": {},
   "source": [
    "## Tracking"
   ]
  },
  {
   "cell_type": "code",
   "execution_count": null,
   "metadata": {},
   "outputs": [],
   "source": [
    "import wandb\n",
    "\n",
    "WANDB_NAME = f'{ds_name}-{model_name}'\n",
    "GROUP = f'{ds_name}-{model_name}-simple-{lr:.0e}'\n",
    "NOTES = f'finetuning {model_name} with RAdam lr={lr:.0e}'\n",
    "CONFIG = {}\n",
    "TAGS =[model_name, ds_name, 'radam']"
   ]
  },
  {
   "cell_type": "code",
   "execution_count": null,
   "metadata": {},
   "outputs": [],
   "source": [
    "#hide_output\n",
    "wandb.init(reinit=True, project=\"fasthugs\", entity=\"fastai_community\",\n",
    "           name=WANDB_NAME, group=GROUP, notes=NOTES, tags=TAGS, config=CONFIG);"
   ]
  },
  {
   "cell_type": "markdown",
   "metadata": {},
   "source": [
    "## Training"
   ]
  },
  {
   "cell_type": "code",
   "execution_count": null,
   "metadata": {},
   "outputs": [],
   "source": [
    "model = AutoModelForSeq2SeqLM.from_pretrained(model_name)\n",
    "learn = TransLearner(dls, model, loss_func=noop)"
   ]
  },
  {
   "cell_type": "code",
   "execution_count": null,
   "metadata": {},
   "outputs": [
    {
     "data": {
      "text/html": [],
      "text/plain": [
       "<IPython.core.display.HTML object>"
      ]
     },
     "metadata": {},
     "output_type": "display_data"
    },
    {
     "data": {
      "text/plain": [
       "(#1) [3.882331132888794]"
      ]
     },
     "execution_count": null,
     "metadata": {},
     "output_type": "execute_result"
    }
   ],
   "source": [
    "learn.validate()"
   ]
  },
  {
   "cell_type": "code",
   "execution_count": null,
   "metadata": {},
   "outputs": [
    {
     "data": {
      "text/html": [
       "<table border=\"1\" class=\"dataframe\">\n",
       "  <thead>\n",
       "    <tr style=\"text-align: left;\">\n",
       "      <th>epoch</th>\n",
       "      <th>train_loss</th>\n",
       "      <th>valid_loss</th>\n",
       "      <th>time</th>\n",
       "    </tr>\n",
       "  </thead>\n",
       "  <tbody>\n",
       "    <tr>\n",
       "      <td>0</td>\n",
       "      <td>2.835807</td>\n",
       "      <td>2.572247</td>\n",
       "      <td>05:25</td>\n",
       "    </tr>\n",
       "    <tr>\n",
       "      <td>1</td>\n",
       "      <td>2.720766</td>\n",
       "      <td>2.543403</td>\n",
       "      <td>05:33</td>\n",
       "    </tr>\n",
       "  </tbody>\n",
       "</table>"
      ],
      "text/plain": [
       "<IPython.core.display.HTML object>"
      ]
     },
     "metadata": {},
     "output_type": "display_data"
    }
   ],
   "source": [
    "learn.fit_one_cycle(2, 1e-4)"
   ]
  },
  {
   "cell_type": "code",
   "execution_count": null,
   "metadata": {},
   "outputs": [
    {
     "data": {
      "text/html": [],
      "text/plain": [
       "<IPython.core.display.HTML object>"
      ]
     },
     "metadata": {},
     "output_type": "display_data"
    },
    {
     "data": {
      "text/plain": [
       "(#1) [2.543402671813965]"
      ]
     },
     "execution_count": null,
     "metadata": {},
     "output_type": "execute_result"
    }
   ],
   "source": [
    "learn.validate()"
   ]
  },
  {
   "cell_type": "code",
   "execution_count": null,
   "metadata": {},
   "outputs": [
    {
     "name": "stdout",
     "output_type": "stream",
     "text": [
      "document: The country's consumer watchdog has taken Apple to court for false advertising because the tablet computer does not work on Australia's 4G network.\n",
      "Apple's lawyers said they were willing to publish a clarification.\n",
      "However the company does not accept that it misled customers.\n",
      "The Australian Competition and Consumer Commission (ACCC) said on Tuesday: \"Apple's recent promotion of the new 'iPad with wi-fi + 4G' is misleading because it represents to Australian consumers that the product can, with a sim card, connect to a 4G mobile data network in Australia, when this is not the case.\"\n",
      "The watchdog then lodged a complaint at the Federal Court in Melbourne.\n",
      "At a preliminary hearing, Apple lawyer Paul Anastassiou said Apple had never claimed the device would work fully on the current 4G network operated by Telstra.\n",
      "Apple says the new iPad works on what is globally accepted to be a 4G network.\n",
      "The matter will go to a full trial on 2 May.\n",
      "The Apple iPad's third version went on sale earlier this month, with Australia the first country where it was available.\n",
      "Shoppers lined up by the hundreds at Apple stores on opening day and the company said it had been its strongest iPad launch to date.\n",
      "The ACCC said it was seeking an injunction on sales as well as a financial penalty against Apple, corrective advertising and refunds to consumers.\n",
      "On its website, Apple does state that 4G LTE is only supported on selected networks in the US and Canada.\n",
      "\n",
      "reference summary: US technology firm Apple has offered to refund Australian customers who felt misled about the 4G capabilities of the new iPad.\n",
      "\n",
      "predicted summary: Apple has filed a complaint against the Australian consumer watchdog for misleading advertising on its new iPad\n"
     ]
    }
   ],
   "source": [
    "sample = train_ds[0]\n",
    "print(f\"document: {sample['document']}\")\n",
    "print(f\"\\nreference summary: {sample['summary']}\")\n",
    "inp = tokenizer('summarize: '+sample['document'], return_tensors='pt')\n",
    "pred = learn.generate(inp['input_ids'].to(dls.device))\n",
    "out = tokenizer.decode(pred[0].cpu(), skip_special_tokens=True)\n",
    "print(f\"\\npredicted summary: {out}\")"
   ]
  },
  {
   "cell_type": "code",
   "execution_count": null,
   "metadata": {},
   "outputs": [],
   "source": []
  }
 ],
 "metadata": {
  "kernelspec": {
   "display_name": "Python 3",
   "language": "python",
   "name": "python3"
  }
 },
 "nbformat": 4,
 "nbformat_minor": 4
}
